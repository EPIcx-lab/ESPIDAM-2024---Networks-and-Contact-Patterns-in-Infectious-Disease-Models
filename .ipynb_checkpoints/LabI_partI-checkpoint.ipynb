{
 "cells": [
  {
   "cell_type": "markdown",
   "id": "387c5c7d-4d0c-4a59-ad0f-2444d36b42c4",
   "metadata": {},
   "source": [
    "# About this practical session\n",
    "In this practical session, we will analyze mobility data for the US coming from *Kang, Yuhao, et al. \"Multiscale dynamic human mobility flow dataset in the US during the COVID-19 epidemic.\" Scientific Data 7.1 (2020): 390*.\n",
    "\n",
    "Goal: Start with high-resolution human mobility data to extract and visualize the properties of the resulting mobility network\n",
    "\n",
    "Outline:\n",
    "- Data inspection, formatting, aggregation, and basic statistics\n",
    "- Compute the degree distribution of the mobility network\n",
    "- Create a choropleth map\n",
    "- Analyze mobility changes during COVID-19 and compare long and short travels\n",
    "- Fit a generalized gravity model\n",
    "- Graph representation \n",
    "- Compute the risk of importation\n",
    "\n",
    "## Data details \n",
    "To convert the raw GPS pings into individual flows between different locations several are performed:\n",
    "\n",
    "- Raw GPS Pings\n",
    "- Noise Removal\n",
    "- Clustering GPS pings\n",
    "- Home Location Estimation (Each user's home location is determined based on the most common nighttime location over a six-week period. This is done by clustering GPS pings that occur during nighttime hours (6 PM - 7 AM))\n",
    "- POIs (Points of Interest) Estimation (Points of Interest (POIs) are tracked using clustering methods that associate each cluster of pings with a POI or a geographic location)\n",
    "- Visits from home place to various POIs and CBGs are identified\n",
    "- Population Flow Estimation: Since the mobile phone data only covers about 10% of the population, the study uses demographic data to infer population-level flows. This involves scaling the observed mobile phone data to represent the entire population.\n",
    "\n",
    "We are going to use the daily Origin-Destination (OD) Matrix that contains the flow between each pair of Census Block Groups (CBG). In other words, this metric estimates the number of individuals who travel from an origin CBG to a destination CBG each day."
   ]
  },
  {
   "cell_type": "code",
   "execution_count": null,
   "id": "a4c9fa65-c7e6-429e-ad61-1515ed30f80f",
   "metadata": {},
   "outputs": [],
   "source": []
  },
  {
   "cell_type": "code",
   "execution_count": null,
   "id": "ac14a18c-71f7-4ac0-88fd-53147968d9fe",
   "metadata": {},
   "outputs": [],
   "source": []
  },
  {
   "cell_type": "code",
   "execution_count": null,
   "id": "00859bbf-31fe-4d60-88e5-e1e9dc198db5",
   "metadata": {},
   "outputs": [],
   "source": []
  },
  {
   "cell_type": "markdown",
   "id": "d88b5e85-991e-4cbe-aad2-23326fdafe1a",
   "metadata": {},
   "source": [
    "# Import libraries"
   ]
  },
  {
   "cell_type": "code",
   "execution_count": null,
   "id": "c7b68006-a859-40a3-b8cc-2b0a23d63bd8",
   "metadata": {},
   "outputs": [],
   "source": [
    "import pandas as pd\n",
    "import numpy as np\n",
    "\n",
    "from matplotlib import pyplot as plt\n",
    "import matplotlib as mpl\n",
    "import matplotlib.dates as mdates\n",
    "\n",
    "import os\n",
    "import geopandas as gpd\n",
    "import statsmodels.api as sm"
   ]
  },
  {
   "cell_type": "code",
   "execution_count": null,
   "id": "bba2c482-ed93-4077-864c-91b9b28761ad",
   "metadata": {
    "scrolled": true
   },
   "outputs": [],
   "source": [
    "# If you encounter an ImportError try install packages using the following command:\n",
    "# !pip install geopandas"
   ]
  },
  {
   "cell_type": "code",
   "execution_count": null,
   "id": "5f35302d-c416-4f06-b0da-4641022583a4",
   "metadata": {},
   "outputs": [],
   "source": [
    "# A function for formatting dates in plots\n",
    "def dateFormat(ax):\n",
    "    locator = mdates.AutoDateLocator(minticks=5, maxticks=10)\n",
    "    formatter = mdates.ConciseDateFormatter(locator, show_offset=False)\n",
    "    ax.xaxis.set_major_locator(locator)\n",
    "    ax.xaxis.set_major_formatter(formatter)"
   ]
  },
  {
   "cell_type": "markdown",
   "id": "1442bb4b-cc7b-4ff7-9876-9c115781bad7",
   "metadata": {},
   "source": [
    "# Inspect a sample of the data"
   ]
  },
  {
   "cell_type": "code",
   "execution_count": null,
   "id": "2999b1f4-372a-417a-a592-b8bd94cfb59c",
   "metadata": {},
   "outputs": [],
   "source": [
    "# Read a sample of the daily CBG to CBG visitor flows.\n",
    "# If executing on Google Colab, change the path to:\n",
    "# https://github.com/EPIcx-lab/ESPIDAM2024_Networks-and-Contact-Patterns-in-Infectious-Disease-Models/raw/main/mobilityflows/sample_daily_ct2ct_2020_01_01.csv.xz\n",
    "\n",
    "ct2ct = pd.read_csv('./mobilityflows/sample_daily_ct2ct_2020_01_01.csv.xz')"
   ]
  },
  {
   "cell_type": "code",
   "execution_count": null,
   "id": "ba3657c3-0b93-4406-93b0-03629075bf96",
   "metadata": {},
   "outputs": [],
   "source": [
    "# Display the first two entries of the dataset\n",
    "ct2ct.head(2)"
   ]
  },
  {
   "cell_type": "markdown",
   "id": "d37245a5-b75b-4442-9d5b-d77ceab8d14b",
   "metadata": {},
   "source": [
    "## Get county and state from geoids\n",
    "Geographic identifiers (geoids) in the U.S., like `55025010702`, are constructed as:  \n",
    "- State FIPS Code: Two digits represent the state (`55` is the FIPS code for Wisconsin).\n",
    "- County FIPS Code: The next three digits represent the county (`025` is the FIPS code for Dane County in Wisconsin).\n",
    "- Tract Code: The rest of the digits represent the census tract within the county"
   ]
  },
  {
   "cell_type": "code",
   "execution_count": null,
   "id": "598d790f-fe79-4863-ac08-7ed3a59bb7c8",
   "metadata": {},
   "outputs": [],
   "source": [
    "# Ensure that GEOIDs are strings of 11 characters by adding leading zeros if necessary\n",
    "# Hint: use .astype(str) \n",
    "ct2ct['geoid_o'] = ...\n",
    "\n",
    "# Hint: use .apply(...) and zfill\n",
    "..."
   ]
  },
  {
   "cell_type": "code",
   "execution_count": null,
   "id": "bcbd775e-a4e3-4b4c-9e3b-81d7b6fe149f",
   "metadata": {},
   "outputs": [],
   "source": [
    "ct2ct.head(2)"
   ]
  },
  {
   "cell_type": "code",
   "execution_count": null,
   "id": "9c9143cd-d8a8-4f08-acd9-f999c1c691d8",
   "metadata": {},
   "outputs": [],
   "source": [
    "# Extract the first 2 characters to represent the state code\n",
    "# Hint: use .apply(lambda a: ...), and assign the result to a new column\n",
    "...\n",
    "\n",
    "# Extract the first 5 characters to represent the county code\n",
    "..."
   ]
  },
  {
   "cell_type": "code",
   "execution_count": null,
   "id": "3891ac43-01b5-4966-a483-6451f4a54ea5",
   "metadata": {},
   "outputs": [],
   "source": [
    "ct2ct.head(2)"
   ]
  },
  {
   "cell_type": "markdown",
   "id": "6a0b4fd4-1cbe-4491-bcb1-8de371b8a02a",
   "metadata": {},
   "source": [
    "## Aggreagte at state and county level"
   ]
  },
  {
   "cell_type": "code",
   "execution_count": null,
   "id": "b9201d19-7031-4c88-8ca9-9d8c1eadd940",
   "metadata": {},
   "outputs": [],
   "source": [
    "# Group all entries with the same combination of 'county_o' and 'county_d' and sum the 'pop_flows'\n",
    "# Hint: Use groupby on 'county_o' and 'county_d' and sum the 'pop_flows' column\n",
    "c2c = ...\n",
    "s2s = ..."
   ]
  },
  {
   "cell_type": "code",
   "execution_count": null,
   "id": "af2cefc9-ba9b-404e-81e9-b54fa094ac6c",
   "metadata": {},
   "outputs": [],
   "source": [
    "c2c.head(5)"
   ]
  },
  {
   "cell_type": "code",
   "execution_count": null,
   "id": "e9501a93-6438-42c4-88d4-9f329531ff0f",
   "metadata": {},
   "outputs": [],
   "source": [
    "s2s.head(5)"
   ]
  },
  {
   "cell_type": "code",
   "execution_count": null,
   "id": "72f9471e-ed40-44ed-8900-c97a50536f03",
   "metadata": {},
   "outputs": [],
   "source": []
  },
  {
   "cell_type": "code",
   "execution_count": null,
   "id": "2f195a05-5d38-4a44-85d1-a1ffb3b22266",
   "metadata": {},
   "outputs": [],
   "source": []
  },
  {
   "cell_type": "code",
   "execution_count": null,
   "id": "ae4435ef-c20b-400c-8dbc-0c3c27a44075",
   "metadata": {},
   "outputs": [],
   "source": []
  },
  {
   "cell_type": "code",
   "execution_count": null,
   "id": "29a60051-d847-4670-83f9-247c6626ee8f",
   "metadata": {},
   "outputs": [],
   "source": []
  },
  {
   "cell_type": "code",
   "execution_count": null,
   "id": "3c18b31b-b6a0-4c96-b547-184e446faaa8",
   "metadata": {},
   "outputs": [],
   "source": []
  },
  {
   "cell_type": "markdown",
   "id": "dd0bebf4-27af-40ec-8ab9-c18a4459c9ca",
   "metadata": {},
   "source": [
    "# Read pre-aggregated data\n",
    "Due to time constraints and the large size of the data, we directly read the results of the previous code"
   ]
  },
  {
   "cell_type": "code",
   "execution_count": null,
   "id": "1b2b95ce-b197-4d9a-9bf2-c08de42bd3ea",
   "metadata": {},
   "outputs": [],
   "source": [
    "# Read county to county csv file\n",
    "# if executed on Google Colab change the path in \n",
    "# https://github.com/EPIcx-lab/ESPIDAM2024_Networks-and-Contact-Patterns-in-Infectious-Disease-Models/raw/main/mobilityflows/mobilityFlowsCounty.csv.xz\n",
    " \n",
    "c2c = pd.read_csv('./mobilityflows/mobilityFlowsCounty.csv.xz')\n",
    "c2c['date'] = pd.to_datetime(c2c['date']) # transform column in datetime"
   ]
  },
  {
   "cell_type": "code",
   "execution_count": null,
   "id": "7e9b4ef4-aabe-4a37-91cd-53a0da4e2dd4",
   "metadata": {},
   "outputs": [],
   "source": [
    "# Ensure 'county_o' and 'county_d' are strings and containing 5 characters (adding leading zeros if necessary)\n",
    "# Hint: similar to what done before\n",
    "c2c['county_o'] = ...\n",
    "c2c['county_o'] = ...\n",
    "\n",
    "c2c['county_d'] = ...\n",
    "c2c['county_d'] = ..."
   ]
  },
  {
   "cell_type": "code",
   "execution_count": null,
   "id": "2f5b76a1-de6f-4e44-89fe-1795373fc77e",
   "metadata": {},
   "outputs": [],
   "source": [
    "# Display 10 random rows from the dataset\n",
    "c2c.sample(10)"
   ]
  },
  {
   "cell_type": "code",
   "execution_count": null,
   "id": "60597a75-46b9-40da-a1d2-87cdce7879cb",
   "metadata": {},
   "outputs": [],
   "source": [
    "# Print the number of entries in the dataset\n",
    "..."
   ]
  },
  {
   "cell_type": "code",
   "execution_count": null,
   "id": "695810ce-86a1-4704-b0cb-a3996446a028",
   "metadata": {},
   "outputs": [],
   "source": [
    "# Print the start and end dates of the dataset\n",
    "# Hint: use function .min(), .max\n",
    "..."
   ]
  },
  {
   "cell_type": "code",
   "execution_count": null,
   "id": "a2461d7c-1461-4a8e-a101-6347dddccacb",
   "metadata": {},
   "outputs": [],
   "source": [
    "# Compute total population flows per day\n",
    "# Hint: Group by the 'date' column and sum the 'pop_flows' column\n",
    "..."
   ]
  },
  {
   "cell_type": "code",
   "execution_count": null,
   "id": "6781f406-fae1-4eb6-a167-7e4618299c84",
   "metadata": {},
   "outputs": [],
   "source": [
    "# Plot the timeseries of the total population flows\n",
    "fig, ax = plt.subplots(figsize=(5, 2.7), layout='constrained')\n",
    "...\n",
    "\n",
    "ax.set_ylabel(\"Total Flow\")\n",
    "ax.set_xlabel(\"Date\")\n",
    "dateFormat(ax)"
   ]
  },
  {
   "cell_type": "code",
   "execution_count": null,
   "id": "d658134f-3b9c-4f60-968b-7b9b2a03eed9",
   "metadata": {},
   "outputs": [],
   "source": [
    "# Get the histogram of the flow values\n",
    "# Hint: use the function np.histogram\n",
    "counts, binEdges = ...\n",
    "binCenter = ..."
   ]
  },
  {
   "cell_type": "code",
   "execution_count": null,
   "id": "14a90d2f-6051-4d33-9302-8bc4ce37efcc",
   "metadata": {},
   "outputs": [],
   "source": [
    "# Plot the distribution of the flow\n",
    "fig, ax = plt.subplots(figsize=(5, 2.7), layout='constrained')\n",
    "\n",
    "ax.set_xscale(\"log\")\n",
    "ax.set_yscale(\"log\")\n",
    "ax.set_ylabel(\"p(w)\")\n",
    "ax.set_xlabel(\"w\")"
   ]
  },
  {
   "cell_type": "markdown",
   "id": "ea9e9fd4-e4ab-4277-b14d-959926f575c7",
   "metadata": {},
   "source": [
    "# Deegre and Flow Distribution"
   ]
  },
  {
   "cell_type": "markdown",
   "id": "086cc790-a29d-42a4-adb3-c4647ead92a3",
   "metadata": {},
   "source": [
    "## Degree distibition"
   ]
  },
  {
   "cell_type": "code",
   "execution_count": null,
   "id": "c1d74cb6-1d82-41a8-89a8-2ad02b5cf930",
   "metadata": {},
   "outputs": [],
   "source": [
    "# Select data for a specific day\n",
    "# Hint: use .query()\n",
    "c2cOneDay = \n",
    "\n",
    "# Filter the data for population flows greater than or equal to a threshold\n",
    "# (You can try different filtering criteria)\n",
    "c2cOneDay = ...\n",
    "\n",
    "# Compute the degree: group by origin/destination and count the number of connections\n",
    "inDegree = ...\n",
    "outDegree = ...\n",
    "\n",
    "# Rename the resulting series for clarity\n",
    "inDegree.name = 'inDegree'\n",
    "outDegree.name = 'outDegree'"
   ]
  },
  {
   "cell_type": "code",
   "execution_count": null,
   "id": "acb86d06-2926-4ce6-8d5f-52539b50b972",
   "metadata": {},
   "outputs": [],
   "source": [
    "# Get the histogram of the in-degree using np.unique with return_counts=True\n",
    "uniqueIn, countsIn = ...\n",
    "\n",
    "# Get the histogram of the out-degree using np.unique with return_counts=True\n",
    "uniqueOut, countsOut = ..."
   ]
  },
  {
   "cell_type": "code",
   "execution_count": null,
   "id": "9999a436-7532-44bc-bdd7-cdc7f50eff25",
   "metadata": {},
   "outputs": [],
   "source": [
    "# Plot the degree distribution\n",
    "fig, ax = plt.subplots(figsize=(5, 2.7), layout='constrained')\n",
    "\n",
    "... \n",
    "\n",
    "ax.set_ylabel(\"p(k)\")\n",
    "ax.set_xlabel(\"Degree\")\n",
    "ax.legend()"
   ]
  },
  {
   "cell_type": "markdown",
   "id": "63f64670-459d-46ee-b9b1-806e7b4f2cb1",
   "metadata": {},
   "source": [
    "## In Flow and Out Flow distibition"
   ]
  },
  {
   "cell_type": "code",
   "execution_count": null,
   "id": "154718e2-6f89-416f-80ca-911db98ee6c1",
   "metadata": {},
   "outputs": [],
   "source": [
    "# Filter data for the specified date range\n",
    "c2cFiltered = ...\n",
    "\n",
    "# Aggregate population flows by origin and destination counties\n",
    "c2cFiltered = ...\n",
    "\n",
    "# Compute the in/out flow by summing over all connections grouped by origin/destination\n",
    "inFlow = ...\n",
    "outFlow = ...\n",
    "\n",
    "# Rename the resulting series for clarity\n",
    "inFlow.name = 'inFlow'\n",
    "outFlow.name = 'outFlow'"
   ]
  },
  {
   "cell_type": "code",
   "execution_count": null,
   "id": "f4f4998b-e33c-4281-97fa-44c5850e9e31",
   "metadata": {},
   "outputs": [],
   "source": [
    "# Plot the distribution of inFlow and outFlow\n",
    "fig, ax = plt.subplots(figsize=(5, 2.7), layout='constrained')\n",
    "\n",
    "# Get the histogram of the inFlow data\n",
    "...\n",
    "\n",
    "# Get the histogram of the outFlow data\n",
    "...\n",
    "\n",
    "ax.set_ylabel(\"p\")\n",
    "ax.set_xlabel(\"Travel Flow\")\n",
    "ax.legend()"
   ]
  },
  {
   "cell_type": "code",
   "execution_count": null,
   "id": "ccb02525-a18e-4f4c-b28c-f232555e3e9e",
   "metadata": {},
   "outputs": [],
   "source": []
  },
  {
   "cell_type": "markdown",
   "id": "a0b8f5d9-59ee-460d-b8f7-a11ee6821132",
   "metadata": {},
   "source": [
    "# Plot maps"
   ]
  },
  {
   "cell_type": "code",
   "execution_count": null,
   "id": "bf3f4adf-f690-4fb6-b221-f416d47d3968",
   "metadata": {},
   "outputs": [],
   "source": [
    "# Load the shapefile at the county level \n",
    "# If executing on Google Colab, change the path to:\n",
    "# https://github.com/EPIcx-lab/ESPIDAM2024_Networks-and-Contact-Patterns-in-Infectious-Disease-Models/raw/main/otherData/US-counties.geojson\n",
    "geoData = gpd.read_file('./otherData/US-counties.geojson')\n",
    "\n",
    "# Convert the coordinate reference system to ESRI:102003\n",
    "geoData = geoData.to_crs(\"ESRI:102003\")\n",
    "\n",
    "# Set the index to 'id' for easy access\n",
    "geoData = geoData.set_index('id')\n",
    "\n",
    "# For visualization purposes, remove Alaska, Hawaii, and Puerto Rico\n",
    "geoData = geoData.query('STATE not in [\"02\", \"15\", \"72\"]')"
   ]
  },
  {
   "cell_type": "markdown",
   "id": "fd7979cc-b215-42b8-b772-154e8258a2f0",
   "metadata": {},
   "source": [
    "## Inspect the map dataset"
   ]
  },
  {
   "cell_type": "code",
   "execution_count": null,
   "id": "52d3c7ee-0a8b-460e-832c-14fea637ff83",
   "metadata": {},
   "outputs": [],
   "source": [
    "# Plot the county boundaries\n",
    "fig, ax = plt.subplots(figsize=(5, 2.7), layout='constrained')\n",
    "geoData.plot(facecolor='None', linewidth=0.3, ax=ax)\n",
    "\n",
    "# Remove the axis\n",
    "ax.axis('off');"
   ]
  },
  {
   "cell_type": "markdown",
   "id": "7984fca2-2741-4eda-a43e-c95b0e43fec4",
   "metadata": {},
   "source": [
    "## Plot the degree"
   ]
  },
  {
   "cell_type": "code",
   "execution_count": null,
   "id": "693db321-fba0-493f-b6f4-f17816a9d40b",
   "metadata": {},
   "outputs": [],
   "source": [
    "geoData.head(2)"
   ]
  },
  {
   "cell_type": "code",
   "execution_count": null,
   "id": "a718310c-67c6-4a6b-9267-6674fb9bb5f8",
   "metadata": {},
   "outputs": [],
   "source": [
    "# Merge geoData with inFlow, outFlow, inDegree, and outDegree.\n",
    "# Hint: geoData = geoData.merge(...)\n",
    "..."
   ]
  },
  {
   "cell_type": "code",
   "execution_count": null,
   "id": "d0644e01-ecc8-4b7c-b347-aa212ccbbab9",
   "metadata": {},
   "outputs": [],
   "source": [
    "fig, axs = plt.subplots(figsize=(10, 3), ncols=2, layout='constrained')\n",
    "\n",
    "# Set logarithmic normalization for color scaling\n",
    "colorNorm = mpl.colors.LogNorm(...)\n",
    "\n",
    "# Plot 'inFlow' data\n",
    "ax = axs[0]\n",
    "ax.axis('off') \n",
    "ax.set_title('inFlow')\n",
    "...\n",
    "\n",
    "# Plot 'outFlow' data\n",
    "ax = axs[1]\n",
    "ax.axis('off')\n",
    "ax.set_title('outFlow')\n",
    "..."
   ]
  },
  {
   "cell_type": "code",
   "execution_count": null,
   "id": "0fcf98cb-e420-445a-8a97-8e3ddb8038cd",
   "metadata": {},
   "outputs": [],
   "source": [
    "# Plot degree\n",
    "fig, axs = plt.subplots(figsize=(10, 3), ncols=2, layout='constrained')\n",
    "colorNorm=mpl.colors.LogNorm(vmin=geoData[['inDegree','outDegree']].min().min(), vmax=geoData[['inDegree','outDegree']].max().max())\n",
    "\n",
    "ax = axs[0]\n",
    "ax.axis('off')\n",
    "ax.set_title('inDegree')\n",
    "... \n",
    "\n",
    "ax = axs[1]\n",
    "ax.axis('off')\n",
    "ax.set_title('outDegree')\n",
    "..."
   ]
  },
  {
   "cell_type": "code",
   "execution_count": null,
   "id": "f704c23a-e09c-4600-8cf9-aaead78b4e8e",
   "metadata": {},
   "outputs": [],
   "source": []
  },
  {
   "cell_type": "code",
   "execution_count": null,
   "id": "b7c64e8b-3fea-4959-b212-df452cf8cc14",
   "metadata": {},
   "outputs": [],
   "source": []
  },
  {
   "cell_type": "code",
   "execution_count": null,
   "id": "ade8c2e4-1673-4e56-8136-8db8abb0482e",
   "metadata": {},
   "outputs": [],
   "source": []
  },
  {
   "cell_type": "markdown",
   "id": "3f22e789-361a-4a8b-990d-f4124296645f",
   "metadata": {},
   "source": [
    "# Covid Lockdown"
   ]
  },
  {
   "cell_type": "code",
   "execution_count": null,
   "id": "0ca68bc4-c594-471a-b084-d430b41017c2",
   "metadata": {},
   "outputs": [],
   "source": [
    "# Some FIPS codes related to NYC \n",
    "FIPS_NYC = {'36005', '36047', '36061', '36081', '36085', '35620'}\n",
    "\n",
    "# Filter the data to obtain the VISITORS flow to NYC\n",
    "# Alternative: Filter the data to obtain the VISITORS flow to NYC not originating from NYC\n",
    "# Hint: use query with something similar to 'column in @FIPS_NYC'\n",
    "visitorNYC = ...\n",
    "\n",
    "# Use groupby to obtain the total visitors per day\n",
    "visitorNYC = ...\n",
    "visitorNYC.head(2)"
   ]
  },
  {
   "cell_type": "code",
   "execution_count": null,
   "id": "1b837379-d1f2-4337-b1b8-95f1d4ffdba4",
   "metadata": {},
   "outputs": [],
   "source": [
    "# Repeat for San Francisco\n",
    "FIPS_SanFrancisco = {'06075', '06081', '06013', '06001', '06041'}\n",
    "\n",
    "...."
   ]
  },
  {
   "cell_type": "code",
   "execution_count": null,
   "id": "e7707fea-1ba0-4f1d-9234-15a4e657ea7d",
   "metadata": {},
   "outputs": [],
   "source": [
    "# Plot timeseries of visitors\n",
    "fig, ax = plt.subplots(figsize=(5, 2.7), layout='constrained')\n",
    "\n",
    "...\n",
    "\n",
    "\n",
    "dateFormat(ax)\n",
    "ax.legend()\n",
    "ax.set_ylabel('Visitors Flow');\n",
    "\n",
    "ax.vlines(pd.Timestamp('2020-03-12'), *ax.get_ylim(), color='C0', alpha=1, zorder=-10)\n",
    "ax.vlines(pd.Timestamp('2020-03-16'), *ax.get_ylim(), color='C1', alpha=1, zorder=-10)"
   ]
  },
  {
   "cell_type": "code",
   "execution_count": null,
   "id": "6721b818-92c0-40e0-b989-0e9fddd49f51",
   "metadata": {},
   "outputs": [],
   "source": [
    "# EXTRA: what about rural areas?"
   ]
  },
  {
   "cell_type": "code",
   "execution_count": null,
   "id": "650816fc-926f-445d-9fc3-7dd63ff46230",
   "metadata": {},
   "outputs": [],
   "source": [
    "# EXTRA: compute the variation with respect of the flow of a specific day or week before restrictions"
   ]
  },
  {
   "cell_type": "markdown",
   "id": "758072a1-46a8-45ec-b7dc-dd986309d3c0",
   "metadata": {},
   "source": [
    "# Add trip distances"
   ]
  },
  {
   "cell_type": "code",
   "execution_count": null,
   "id": "89e280be-b952-4aba-a06b-d4df3929c202",
   "metadata": {},
   "outputs": [],
   "source": [
    "# Load the JSON file with county coordinates\n",
    "# If executing on Google Colab, change the path to:\n",
    "# https://github.com/EPIcx-lab/ESPIDAM2024_Networks-and-Contact-Patterns-in-Infectious-Disease-Models/raw/main/otherData/US-counties.geojson\n",
    "geoData = gpd.read_file('./otherData/US-counties.geojson')\n",
    "geoData = geoData.to_crs(\"ESRI:102003\")\n",
    "geoData = geoData.set_index('id')\n",
    "\n",
    "# Compute the centroid for each county\n",
    "geoData[\"centroid\"] = geoData.centroid"
   ]
  },
  {
   "cell_type": "code",
   "execution_count": null,
   "id": "5375db36-7084-48d3-bc9e-57e0451c0eb8",
   "metadata": {
    "scrolled": true
   },
   "outputs": [],
   "source": [
    "# Filter the data to obtain the VISITORS flow to NYC\n",
    "FIPS_NYC = {'36005', '36047', '36061', '36081', '36085', '35620'}\n",
    "visitorNYC = ..."
   ]
  },
  {
   "cell_type": "code",
   "execution_count": null,
   "id": "8e07670f-2700-4c77-bb60-fbc996acc2bc",
   "metadata": {},
   "outputs": [],
   "source": [
    "# Map centroids to origin and destination counties in visitorNYC\n",
    "# Hint: Use the function map\n",
    "..."
   ]
  },
  {
   "cell_type": "code",
   "execution_count": null,
   "id": "51a30260-af5a-4c01-a75a-2e1e68a90c04",
   "metadata": {},
   "outputs": [],
   "source": [
    "visitorNYC.head(2)"
   ]
  },
  {
   "cell_type": "code",
   "execution_count": null,
   "id": "f2b50e2e-dd76-4f55-a7eb-ed6d8e1537c3",
   "metadata": {},
   "outputs": [],
   "source": [
    "# Compute the distances\n",
    "visitorNYC['distance'] = gpd.GeoSeries(visitorNYC['centroid_o'], crs=\"ESRI:102003\").distance(gpd.GeoSeries(visitorNYC['centroid_d'], crs=\"ESRI:102003\"))\n",
    "\n",
    "# Convert distance from meters to kilometers\n",
    "...\n",
    "\n",
    "visitorNYC.head(2)"
   ]
  },
  {
   "cell_type": "markdown",
   "id": "223e2997-0df1-462a-8908-2ae877b14eae",
   "metadata": {},
   "source": [
    "## Long vs Short mobility"
   ]
  },
  {
   "cell_type": "code",
   "execution_count": null,
   "id": "bf3efa74-e2c7-4f27-b7bf-460f14ad4566",
   "metadata": {},
   "outputs": [],
   "source": [
    "# Create two dataset containing long and short mobility\n",
    "...\n",
    "short = ...\n",
    "long = ..."
   ]
  },
  {
   "cell_type": "code",
   "execution_count": null,
   "id": "3dda1b82-81ad-4659-98ea-9cec6f6f2446",
   "metadata": {},
   "outputs": [],
   "source": [
    "# Use groupby to obtain the total visitor per day\n",
    "..."
   ]
  },
  {
   "cell_type": "code",
   "execution_count": null,
   "id": "148a076a-ab96-4162-999a-74fc9d02a0c3",
   "metadata": {},
   "outputs": [],
   "source": [
    "# Normalize the timeseries\n",
    "# Take the period before the restrictions (ex '2020-03-18') and compute the average number of visitor\n",
    "# Divide the whole timeseies by the average pre-intervention number of visitors \n",
    "..."
   ]
  },
  {
   "cell_type": "code",
   "execution_count": null,
   "id": "badef6a0-fc96-40af-be0c-787f27351aa5",
   "metadata": {},
   "outputs": [],
   "source": [
    "# Plot the timeseries\n",
    "... \n",
    "fig, ax = plt.subplots(figsize=(5, 2.7), layout='constrained')\n",
    "\n",
    "locator = mdates.AutoDateLocator(minticks=5, maxticks=10)\n",
    "formatter = mdates.ConciseDateFormatter(locator, show_offset=False)\n",
    "ax.xaxis.set_major_locator(locator)\n",
    "ax.xaxis.set_major_formatter(formatter)\n",
    "ax.legend()\n",
    "ax.set_ylabel('Reduction of\\nvisitors Flow');"
   ]
  },
  {
   "cell_type": "code",
   "execution_count": null,
   "id": "5265f825-5e70-4b03-a93d-3bc66aba9405",
   "metadata": {},
   "outputs": [],
   "source": []
  },
  {
   "cell_type": "code",
   "execution_count": null,
   "id": "6905ff4e-9bc3-40dc-95cb-4bfa39eb84f4",
   "metadata": {},
   "outputs": [],
   "source": []
  },
  {
   "cell_type": "markdown",
   "id": "477f910b-f065-4b5d-b267-3139c3114029",
   "metadata": {},
   "source": [
    "# Gravity Model for Mobility\n",
    "\n",
    "The gravity model for mobility is a mathematical model used to predict and describe the movement of individuals between different locations. \n",
    "It is analogous to Newton's law of gravitation, where the interaction between two locations is proportional to their \"masses\" (e.g., population sizes) and inversely proportional to the distance between them. \n",
    "The generalized gravity model introduces exponents to all the coefficients, allowing for more flexibility and accuracy in capturing the complexities of human mobility.\n",
    "\n",
    "\n",
    "The formula for the generalized gravity model is given by:\n",
    "$$T_{ij} = k \\frac{P_i^{\\alpha} P_j^{\\beta}}{D_{ij}^{\\gamma}}$$\n",
    "\n",
    "where:\n",
    "- $ T_{ij} $ is the predicted flow from location $ i $ to location $ j $\n",
    "- $P_i $ and $ P_j $ are the populations of locations $ i $ and $ j $, respectively\n",
    "- $D_{ij} $ is the distance between locations $ i $ and $ j $\n",
    "- $k $ is a constant\n",
    "- $\\alpha $, $ \\beta $, and $ \\gamma $ are the exponents that adjust the influence of the populations and distance on the flow  \n",
    "\n",
    "\n",
    "Here we fit a gravity model to describe the flow **between states**  \n",
    "We are going to fit the model by applying the log of both side so that we obtain a linear model\n",
    "$$\\log(T_{ij}) = K \\times 1 + \\alpha \\log(P_i) + \\beta \\log({P_j}) - \\gamma \\log({D_{ij})}$$\n"
   ]
  },
  {
   "cell_type": "code",
   "execution_count": null,
   "id": "b77f472b-96f2-4307-8d45-a0ec4a60a350",
   "metadata": {},
   "outputs": [],
   "source": [
    "# Load US population dataset \n",
    "# if executed on Google Colab \n",
    "# https://github.com/EPIcx-lab/ESPIDAM2024_Networks-and-Contact-Patterns-in-Infectious-Disease-Models/raw/main/otherData/US-pop-states.csv\n",
    "\n",
    "popState = pd.read_csv(\"./otherData/US-pop-states.csv\")\n",
    "\n",
    "popState['state'] = popState['state'].astype(str)\n",
    "popState['state'] = popState['state'].apply(lambda a: a.zfill(2)) \n",
    "popState = popState.set_index('state')\n",
    "popState.head(2)"
   ]
  },
  {
   "cell_type": "code",
   "execution_count": null,
   "id": "891afadc-d084-46ee-85a9-569bd6003654",
   "metadata": {},
   "outputs": [],
   "source": [
    "# Load the shapefile at the state level \n",
    "# if executed on Google Colab \n",
    "# https://github.com/EPIcx-lab/ESPIDAM2024_Networks-and-Contact-Patterns-in-Infectious-Disease-Models/raw/main/otherData/US-states.geojson\n",
    "\n",
    "geoState = gpd.read_file('./otherData/US-states.geojson')\n",
    "geoState = geoState.to_crs(\"ESRI:102003\")\n",
    "geoState = geoState.set_index('GEOID')\n",
    "\n",
    "# Compute the controid for each county\n",
    "geoState[\"centroid\"] = geoState.centroid"
   ]
  },
  {
   "cell_type": "code",
   "execution_count": null,
   "id": "cff5f595-3dfa-407a-b680-49dd9e756dbf",
   "metadata": {
    "scrolled": true
   },
   "outputs": [],
   "source": [
    "# filter c2c for an etire week before restrictions\n",
    "s2s = ...\n",
    "\n",
    "# Aggregate the flow at state level\n",
    "# add column that identify the state\n",
    "s2s['state_o'] = ...\n",
    "s2s['state_d'] = ...\n",
    "\n",
    "# remove within state travel\n",
    "s2s = ...\n",
    "\n",
    "# aggreagte summing the flow data at state level\n",
    "s2s = ...\n",
    "s2s = s2s.reset_index()\n",
    "\n",
    "# aggreagte and compute the mean over time \n",
    "s2s = ...\n",
    "s2s = s2s.reset_index()"
   ]
  },
  {
   "cell_type": "code",
   "execution_count": null,
   "id": "cb46a9f6-90a0-4479-ba2e-32b3bd1d408a",
   "metadata": {},
   "outputs": [],
   "source": [
    "# add centroid of the origin and destination\n",
    "...\n",
    "s2s = s2s.dropna()\n",
    "\n",
    "# compute distance between centroid\n",
    "s2s['distance'] = gpd.GeoSeries(s2s['centroid_o'], crs=\"ESRI:102003\").distance(gpd.GeoSeries(s2s['centroid_d'], crs=\"ESRI:102003\"))\n",
    "\n",
    "# distance from m to km\n",
    "..."
   ]
  },
  {
   "cell_type": "code",
   "execution_count": null,
   "id": "f249c43d-9b2f-4db2-af6d-a0ed06f3e234",
   "metadata": {
    "scrolled": true
   },
   "outputs": [],
   "source": [
    "# add columns for the population of the origin and destination\n",
    "..."
   ]
  },
  {
   "cell_type": "code",
   "execution_count": null,
   "id": "d2707a17-b8aa-481e-9dd1-146b2d28649e",
   "metadata": {},
   "outputs": [],
   "source": [
    "s2s.head(2)"
   ]
  },
  {
   "cell_type": "code",
   "execution_count": null,
   "id": "5b8c70a9-4459-4430-adef-b46e27d89da6",
   "metadata": {},
   "outputs": [],
   "source": [
    "# create an array that has for each column the log of the data \n",
    "# Hint: use np.column_stack\n",
    "X = ...\n",
    "# Add a column of one\n",
    "X = sm.add_constant(X)\n",
    "\n",
    "# Create anf fit the model using sm.OLS() and model.fit()\n",
    "...\n",
    "\n",
    "# Extract the parameters using results.params\n",
    "..."
   ]
  },
  {
   "cell_type": "code",
   "execution_count": null,
   "id": "51c6ff8e-601b-4399-bc8d-02332d384d7a",
   "metadata": {},
   "outputs": [],
   "source": [
    "# Predict the travel flows using the fitted parameters\n",
    "T_ij_predicted = ..."
   ]
  },
  {
   "cell_type": "code",
   "execution_count": null,
   "id": "e492c53a-68fd-4790-a0af-74c01ede20d5",
   "metadata": {},
   "outputs": [],
   "source": [
    "# Plot true Vs predicted travel flow\n",
    "fig, ax = plt.subplots(figsize=(3,3), layout='constrained')\n",
    "\n",
    "...\n",
    "\n",
    "ax.set_xlabel('true flow')\n",
    "ax.set_ylabel('predicted flow')"
   ]
  },
  {
   "cell_type": "code",
   "execution_count": null,
   "id": "f26ee993-3878-45d0-8c83-2641a88b5ac6",
   "metadata": {},
   "outputs": [],
   "source": []
  },
  {
   "cell_type": "code",
   "execution_count": null,
   "id": "7e0f9e83-6ef2-4e53-aebe-3eec21f201a4",
   "metadata": {},
   "outputs": [],
   "source": []
  },
  {
   "cell_type": "code",
   "execution_count": null,
   "id": "4bf79b4d-f7af-4e07-b796-d7682a7c49e0",
   "metadata": {},
   "outputs": [],
   "source": []
  },
  {
   "cell_type": "code",
   "execution_count": null,
   "id": "76c26ac9-774e-4a16-b126-6a41f0b4300c",
   "metadata": {},
   "outputs": [],
   "source": []
  },
  {
   "cell_type": "markdown",
   "id": "51066ca8-c943-4683-a0b9-ad4dbaf3b951",
   "metadata": {},
   "source": [
    "# Visualize the travel network"
   ]
  },
  {
   "cell_type": "code",
   "execution_count": null,
   "id": "7ba03834-00bc-40fb-b38f-e3c316481ab7",
   "metadata": {},
   "outputs": [],
   "source": [
    "#!pip install networkx\n",
    "import networkx as nx"
   ]
  },
  {
   "cell_type": "code",
   "execution_count": null,
   "id": "3dd67eb1-14de-48b7-84c5-90fa444ddde3",
   "metadata": {},
   "outputs": [],
   "source": [
    "hideStates = ['02', '69','44' ,'66' ,'15' ,'60' ,'78' ,'72']"
   ]
  },
  {
   "cell_type": "code",
   "execution_count": null,
   "id": "fb892d99-ed3c-43ce-a5b9-39a8504de8e9",
   "metadata": {},
   "outputs": [],
   "source": [
    "# Take the state-to-state network and duplicate it\n",
    "links = s2s.copy()\n",
    "links = links.reset_index()\n",
    "links.head(2)"
   ]
  },
  {
   "cell_type": "code",
   "execution_count": null,
   "id": "445d6143-d8f8-4824-a753-b2729719925d",
   "metadata": {},
   "outputs": [],
   "source": [
    "# Filter rows where pop_flows is greater than 1000\n",
    "...\n",
    "\n",
    "# Remove flows within the same state.\n",
    "...\n",
    "\n",
    "# Remove flows that include the hidden states.\n",
    "# Hint: Use the query method and access the local variable hideStates with @hideStates in the query string.\n",
    "..."
   ]
  },
  {
   "cell_type": "code",
   "execution_count": null,
   "id": "e858387e-fa7e-4cd4-bcb9-0cd3edaaae53",
   "metadata": {},
   "outputs": [],
   "source": [
    "# Transform the flow into values between 0 and 10 to represent the weights of the links in the network.\n",
    "# Create a new column 'w' for the weights\n",
    "..."
   ]
  },
  {
   "cell_type": "code",
   "execution_count": null,
   "id": "ef5b90aa-ed11-4af8-8110-6d9260dffcfa",
   "metadata": {},
   "outputs": [],
   "source": [
    "# Load the US states shapefile\n",
    "geoState = gpd.read_file('./otherData/US-states.geojson')\n",
    "geoState = geoState.to_crs(\"ESRI:102003\")\n",
    "geoState = geoState.query(\"STATEFP not in @hideStates\")"
   ]
  },
  {
   "cell_type": "code",
   "execution_count": null,
   "id": "b1fcde2b-6736-45d6-8819-83e9e2e35a8e",
   "metadata": {},
   "outputs": [],
   "source": [
    "# Create a NetworkX graph\n",
    "G = nx.Graph()\n",
    "\n",
    "# Add nodes to the graph named with the state code.\n",
    "# Hint: Iterate over the geoState dataframe and use G.add_node() to add each state.\n",
    "..."
   ]
  },
  {
   "cell_type": "code",
   "execution_count": null,
   "id": "a95637ba-a4d3-4596-8d7b-237c9a0e8857",
   "metadata": {},
   "outputs": [],
   "source": [
    "# Add links to the graph\n",
    "# Hint: Iterate over the links dataframe and use G.add_edge(nodeFrom, nodeTo, weight=) to add each link.\n",
    "for index, val in links.iterrows():\n",
    "    ..."
   ]
  },
  {
   "cell_type": "code",
   "execution_count": null,
   "id": "e8650ffe-ed8a-4c9f-870c-43bfde5506c5",
   "metadata": {},
   "outputs": [],
   "source": [
    "# Plot the US states.\n",
    "fig, ax = plt.subplots(1, 1, figsize=(15, 10))\n",
    "geoState.plot(facecolor='None', linewidth=0.3, ax=ax)\n",
    "\n",
    "# Create a dictionary for each state code with two values (x, y) equal to the centroid.\n",
    "# Hint: Iterate over geoState, calculate the centroid, and access the properties x and y.\n",
    "...\n",
    "\n",
    "\n",
    "# Draw the network nodes on top of the map.\n",
    "nx.draw_networkx_nodes(...)\n",
    "\n",
    "# Get edge widths from the graph and draw the network edges\n",
    "widths = nx.get_edge_attributes(G, 'weight')\n",
    "nx.draw_networkx_edges(...)"
   ]
  },
  {
   "cell_type": "code",
   "execution_count": null,
   "id": "1adba07b-b5ce-4483-a0bd-9f59164414db",
   "metadata": {},
   "outputs": [],
   "source": []
  },
  {
   "cell_type": "code",
   "execution_count": null,
   "id": "2f91ab5c-bd82-45f5-a742-27fb582cddbe",
   "metadata": {},
   "outputs": [],
   "source": []
  },
  {
   "cell_type": "code",
   "execution_count": null,
   "id": "4fbea0c7-6903-4a58-8f89-fa7640c3f226",
   "metadata": {},
   "outputs": [],
   "source": []
  },
  {
   "cell_type": "code",
   "execution_count": null,
   "id": "44ff2700-32b7-4c13-b869-85666b63b804",
   "metadata": {},
   "outputs": [],
   "source": []
  },
  {
   "cell_type": "code",
   "execution_count": null,
   "id": "69634aa6-c0d7-4280-9778-bacce6836c47",
   "metadata": {},
   "outputs": [],
   "source": []
  },
  {
   "cell_type": "code",
   "execution_count": null,
   "id": "00f1e0a4-f3c4-4e49-9d63-efd5b82990a5",
   "metadata": {},
   "outputs": [],
   "source": []
  },
  {
   "cell_type": "code",
   "execution_count": null,
   "id": "a23dba70-48c0-4ff1-872e-5a4df6379412",
   "metadata": {},
   "outputs": [],
   "source": []
  },
  {
   "cell_type": "code",
   "execution_count": null,
   "id": "a9d65624-cb66-4bd4-a923-76ec31d1f2c0",
   "metadata": {},
   "outputs": [],
   "source": []
  },
  {
   "cell_type": "code",
   "execution_count": null,
   "id": "e0390f19-b094-4a7e-a2d6-5500de8943ba",
   "metadata": {},
   "outputs": [],
   "source": []
  },
  {
   "cell_type": "code",
   "execution_count": null,
   "id": "96eb76db-94be-4768-b153-fa4158b04bd5",
   "metadata": {},
   "outputs": [],
   "source": []
  },
  {
   "cell_type": "code",
   "execution_count": null,
   "id": "f73c59f7-cd60-4480-aebb-a39184a6c806",
   "metadata": {},
   "outputs": [],
   "source": []
  },
  {
   "cell_type": "code",
   "execution_count": null,
   "id": "1ec2ff13-2ef8-49cb-b489-00456fc19056",
   "metadata": {},
   "outputs": [],
   "source": []
  },
  {
   "cell_type": "code",
   "execution_count": null,
   "id": "baee9450-d8b1-4ab2-b827-f085ee1e848c",
   "metadata": {},
   "outputs": [],
   "source": []
  },
  {
   "cell_type": "code",
   "execution_count": null,
   "id": "b23463fb-37ac-4ac8-8864-7f2702d45d43",
   "metadata": {},
   "outputs": [],
   "source": []
  },
  {
   "cell_type": "markdown",
   "id": "144850ac-00c3-43f2-b17f-7ba13acbf2c6",
   "metadata": {},
   "source": [
    "# Importation risk"
   ]
  },
  {
   "cell_type": "markdown",
   "id": "333e168e-3676-4914-8236-d2f222c245b8",
   "metadata": {},
   "source": [
    "If a disease is detected in county A, Which are the countries at highest risk of importing a case from county A? \n",
    "The risk of importation from a county A to a county B is can be defined as the probability of traveling from A to B, conditional on traveling.  \n",
    "In other words: let us assume that an infected person is about to travel out of the country. Where will they go? Importation risk to country B is the probability that they will go to B.  \n",
    "\n",
    "So we can turn the definition of risk into a mathematical law:   \n",
    "$$C_{ab} = \\frac{W_{ab}}{W_a}$$\n",
    "\n",
    "where the sum of is computed over all countries except the origin country , to obtain the probabily of traveling from to conditionally to traveling outside of . Here, is the risk matrix: is the probability that a case traveling out of country a, ends up in country b. As you can see, this formula is extremely simple and relies on mobility. Nowhere we needed epidemiological data!"
   ]
  },
  {
   "cell_type": "markdown",
   "id": "fd284c92-16b2-41d0-8a57-87d72f053888",
   "metadata": {},
   "source": [
    "## Prepare the dataset"
   ]
  },
  {
   "cell_type": "code",
   "execution_count": null,
   "id": "c77542ca-12f6-48d7-9498-731e32541de5",
   "metadata": {},
   "outputs": [],
   "source": [
    "# Select a certain date from the c2c DataFrame\n",
    "# EXTRA: try different dates or averages over periods \n",
    "df = ..."
   ]
  },
  {
   "cell_type": "code",
   "execution_count": null,
   "id": "c183fbe9-a56b-43f7-a807-d10eae1df277",
   "metadata": {},
   "outputs": [],
   "source": [
    "# Compute the denominator W_a\n",
    "# Hint: Use groupby to aggregate the total population flows\n",
    "Wa = ...\n",
    "Wa.name = 'Wa'"
   ]
  },
  {
   "cell_type": "code",
   "execution_count": null,
   "id": "98d6c14f-ebb0-411d-8fff-291af1c18d92",
   "metadata": {},
   "outputs": [],
   "source": [
    "# add the denominator W_a to our dataset\n",
    "# Hint: in each row we need to add Wa to the corresponding couty of origin. Use df.merge(...)\n",
    "df = ..."
   ]
  },
  {
   "cell_type": "code",
   "execution_count": null,
   "id": "5c8cba0b-b576-4782-adcf-d458d648260a",
   "metadata": {},
   "outputs": [],
   "source": [
    "df.head(2)"
   ]
  },
  {
   "cell_type": "code",
   "execution_count": null,
   "id": "8ff7af29-c372-4714-b809-1c3245d30944",
   "metadata": {},
   "outputs": [],
   "source": [
    "# Now Cab\n",
    "df['C'] = ..."
   ]
  },
  {
   "cell_type": "code",
   "execution_count": null,
   "id": "50eb2b1a-371f-48c0-b300-3f68f86079cc",
   "metadata": {},
   "outputs": [],
   "source": [
    "df.head(2)"
   ]
  },
  {
   "cell_type": "code",
   "execution_count": null,
   "id": "2baa6d68-05f4-48cc-afb6-f8155e7c255a",
   "metadata": {},
   "outputs": [],
   "source": []
  },
  {
   "cell_type": "markdown",
   "id": "4e009e65-8dac-4efb-9f25-ee239ad629c1",
   "metadata": {},
   "source": [
    "## Select a source county and plot on a map the risk "
   ]
  },
  {
   "cell_type": "code",
   "execution_count": null,
   "id": "3bcbc808-148c-4ab7-aaf6-253cd1821888",
   "metadata": {},
   "outputs": [],
   "source": [
    "# Load the json file with county coordinates\n",
    "geoData = gpd.read_file('https://raw.githubusercontent.com/holtzy/The-Python-Graph-Gallery/master/static/data/US-counties.geojson')\n",
    "geoData = geoData.to_crs(\"ESRI:102003\")\n",
    "geoData = geoData.set_index('id')\n",
    "\n",
    "hideStates = ['02', '69','44' ,'66' ,'15' ,'60' ,'78' ,'72']\n",
    "geoData = geoData.query(\"STATE not in @hideStates\")"
   ]
  },
  {
   "cell_type": "code",
   "execution_count": null,
   "id": "80bab874-5a77-4035-87f0-290236761f80",
   "metadata": {},
   "outputs": [],
   "source": [
    "geoData.head(2)"
   ]
  },
  {
   "cell_type": "code",
   "execution_count": null,
   "id": "ec0ed7b8-0cca-47fc-869f-fb7185363e15",
   "metadata": {},
   "outputs": [],
   "source": [
    "# Create a new database for a selected source\n",
    "# Hint: Filter the DataFrame for rows where 'county_o' matches the selected source code\n",
    "...\n",
    "source = '36061'\n",
    "dfSource = df.query('county_o == @source')"
   ]
  },
  {
   "cell_type": "code",
   "execution_count": null,
   "id": "6e5506a0-f4a4-462a-8c35-fb7b46e55938",
   "metadata": {},
   "outputs": [],
   "source": [
    "# Merge geoData with dfSource\n",
    "# Hint: Use the merge function to combine geoData and dfSource.\n",
    "geoDataC = geoData.merge(dfSource, left_index=True, right_on='county_d')"
   ]
  },
  {
   "cell_type": "code",
   "execution_count": null,
   "id": "1306631c-efe7-452a-9214-8cdadaa7a7a4",
   "metadata": {},
   "outputs": [],
   "source": [
    "geoDataC.head(2)"
   ]
  },
  {
   "cell_type": "code",
   "execution_count": null,
   "id": "89a1224e-8004-4b8e-a1d0-e278f7bb1c91",
   "metadata": {},
   "outputs": [],
   "source": [
    "fig, ax = plt.subplots(figsize=(12, 4), ncols=1, layout='constrained')\n",
    "\n",
    "# Remove axis\n",
    "ax.axis('off')\n",
    "\n",
    "# Plot the whole map\n",
    "geoData.plot(facecolor='None', ax=ax, linewidth=0.1)\n",
    "\n",
    "# Plot the source in green\n",
    "# Hint: select from geoData only the source and use plot\n",
    "...\n",
    "geoData.loc[[source]].plot(facecolor='green', ax=ax, linewidth=0)\n",
    "\n",
    "# Plot the destination color based on risk C.\n",
    "geoDataC.plot(column='C', cmap='inferno_r', ax=ax, linewidth=0, vmax=0.008, legend=True)"
   ]
  },
  {
   "cell_type": "code",
   "execution_count": null,
   "id": "71d3aa78-c157-4e62-8818-9b118bbcccc5",
   "metadata": {},
   "outputs": [],
   "source": []
  }
 ],
 "metadata": {
  "kernelspec": {
   "display_name": "CCND",
   "language": "python",
   "name": "ccnd"
  },
  "language_info": {
   "codemirror_mode": {
    "name": "ipython",
    "version": 3
   },
   "file_extension": ".py",
   "mimetype": "text/x-python",
   "name": "python",
   "nbconvert_exporter": "python",
   "pygments_lexer": "ipython3",
   "version": "3.12.0"
  }
 },
 "nbformat": 4,
 "nbformat_minor": 5
}
