{
 "cells": [
  {
   "cell_type": "markdown",
   "id": "bb3a361b-68bc-4c9a-96cb-562c586f9752",
   "metadata": {
    "jp-MarkdownHeadingCollapsed": true
   },
   "source": [
    "# About this Practical Session\n",
    "\n",
    "In this practical session, we will utilize the metapopulation model developed in the previous notebook to examine different scenarios of disease spread.\n",
    "\n",
    "In particular, we will perform the following steps:\n",
    "1. Create and use the metapopulation class\n",
    "2. Synchronization examples\n",
    "3. Real-case scenario using data from the first practical session\n",
    "4. Hub infection dynamics"
   ]
  },
  {
   "cell_type": "markdown",
   "id": "04b60e0d-a03a-409e-a3aa-c410b4ca167d",
   "metadata": {},
   "source": [
    "# Import libraries"
   ]
  },
  {
   "cell_type": "code",
   "execution_count": null,
   "id": "c7b68006-a859-40a3-b8cc-2b0a23d63bd8",
   "metadata": {},
   "outputs": [],
   "source": [
    "import pandas as pd\n",
    "import numpy as np\n",
    "from matplotlib import pyplot as plt\n",
    "import matplotlib as mpl\n",
    "from copy import copy, deepcopy\n",
    "\n",
    "import os\n",
    "import geopandas as gpd\n",
    "\n",
    "rng = np.random.default_rng() # random number generator\n",
    "from itertools import combinations\n",
    "import time"
   ]
  },
  {
   "cell_type": "markdown",
   "id": "845b1747-35ec-4667-9d5f-6e80e8a09970",
   "metadata": {},
   "source": [
    "# 1) The Metapopulation class\n",
    "\n",
    "## Definition\n",
    "Here is defined the Metapopulation class. It integrates the code from the last notebook into a class that is easy to use."
   ]
  },
  {
   "cell_type": "code",
   "execution_count": null,
   "id": "cf20078f-e6fd-4067-a9aa-bca6654def0f",
   "metadata": {},
   "outputs": [],
   "source": [
    "def transitions(comp, inc, fromCompartment, toCompartment, rate, step, rng):\n",
    "    '''\n",
    "    This function modifies the arrays `comp` (compartment occupancy for each patch) and `inc` (compartment incidence for each patch).\n",
    "    It updates the values at the given `step` to account for the transition between compartments based on binomial extractions.\n",
    "    It assume the comp array at `step` is filled with the values of comp array at `step-1`\n",
    "\n",
    "    Parameters:\n",
    "    - comp: 3D array, compartment occupancy for each patch over time\n",
    "    - inc: 3D array, compartment incidence for each patch over time\n",
    "    - fromCompartment: int, index of the compartment transitioning from\n",
    "    - toCompartment: int, index of the compartment transitioning to\n",
    "    - rate: float or array-like, transition rate or rates for each patch\n",
    "    - step: int, current time step of the simulation\n",
    "\n",
    "    Example:\n",
    "    transitions(comp, inc, 1, 2, eps, 20) --> transitions from compartment 1 (E) to compartment 2 (I) with rate eps at time step 20\n",
    "    '''\n",
    "    \n",
    "    transitions = rng.binomial(comp[step-1, :, fromCompartment], 1-np.exp(-rate))\n",
    "    \n",
    "    comp[step, :, toCompartment] += transitions\n",
    "    comp[step, :, fromCompartment] -= transitions\n",
    "\n",
    "    inc[step, :, toCompartment] += transitions\n"
   ]
  },
  {
   "cell_type": "code",
   "execution_count": null,
   "id": "6d220064-2637-4325-bd15-b8a9fa3a8024",
   "metadata": {},
   "outputs": [],
   "source": [
    "class metapopSEIR():\n",
    "    '''\n",
    "    The `metapopSEIR` class implements a simulation of a metapopulation SEIR.\n",
    "\n",
    "    Parameters:\n",
    "    ----------\n",
    "    beta : float\n",
    "        Transmission rate of the disease.\n",
    "    eps : float\n",
    "        Rate of transition from exposed (E) to infectious (I) state.\n",
    "    mu : float\n",
    "        Rate of transition from infectious (I) to recovered (R) state.\n",
    "    populations : pd.DataFrame\n",
    "        DataFrame containing population sizes of each patch.\n",
    "    travels : pd.DataFrame\n",
    "        DataFrame specifying the travel between patches, including the number of passengers.\n",
    "    initE : int\n",
    "        Initial number of exposed individuals in a specified patch.\n",
    "    initPatch : int\n",
    "        Index of the patch where initial exposed individuals are located.\n",
    "    nSteps : int\n",
    "        Number of simulation steps to run.\n",
    "\n",
    "    \n",
    "    Methods:\n",
    "    -------\n",
    "    run():\n",
    "        Runs the simulation \n",
    "\n",
    "    getPrevalence():\n",
    "        Returns a DataFrame containing the prevalence (total count) of each SEIR compartment (S, E, I, R) for each patch over time.\n",
    "\n",
    "    getIncidence():\n",
    "        Returns a DataFrame containing the incidence (new cases) of each SEIR compartment (S, E, I, R) for each patch over time.\n",
    "    '''\n",
    "\n",
    "    \n",
    "    def __init__(self, \n",
    "                 beta:'float',\n",
    "                 eps:'float',\n",
    "                 mu:'float',\n",
    "                 populations:'pd.DataFrame',\n",
    "                 travels:'pd.DataFrame',\n",
    "                 initE:'int', \n",
    "                 initPatch:'int',\n",
    "                 nSteps:'int',\n",
    "                ):\n",
    "        \n",
    "        self.nameCompartmens = ['S','E','I','R']\n",
    "        self.beta, self.eps, self.mu = beta, eps, mu    \n",
    "        self.populations = populations.copy()\n",
    "        self.travels = travels.copy()\n",
    "        self.initE = initE\n",
    "        self.initPatch = initPatch\n",
    "        self.nSteps = nSteps\n",
    "        self.rng = np.random.default_rng(int(time.time()))\n",
    "        \n",
    "        self.nCompartmens = 4\n",
    "        self.nPatches = len(populations)\n",
    "    \n",
    "        self.comp = np.zeros((self.nSteps, self.nPatches, self.nCompartmens), dtype=np.int64)\n",
    "        self.inc = np.zeros((self.nSteps, self.nPatches, self.nCompartmens), dtype=np.int64)\n",
    "        self.incT = np.zeros((self.nSteps, self.nPatches, self.nCompartmens), dtype=np.int64)\n",
    "\n",
    "        self.setInitialCondition()\n",
    "        self.modifytravels()\n",
    "    \n",
    "    def setInitialCondition(self):\n",
    "        self.comp[0,:,0] = self.populations['pop'].values\n",
    "        \n",
    "        self.comp[0,self.initPatch,1] += self.initE\n",
    "        self.comp[0,self.initPatch,0] -= self.initE\n",
    "        self.inc[0,self.initPatch,1] += self.initE\n",
    "\n",
    "    def modifytravels(self):\n",
    "        '''\n",
    "        This function modify the provided travels dataset by creating a symmetric mobility matrix that contains the probability of travel between each couple of patches\n",
    "        '''\n",
    "        # create a symmetric matrix of travels \n",
    "        self.travels = self.travels[['passengers']]\n",
    "        travelsMatrix = pd.concat([self.travels, self.travels.rename_axis(['to','from']).reorder_levels((1,0))])\n",
    "        travelsMatrix = travelsMatrix.unstack().fillna(0)\n",
    "        travelsMatrix = travelsMatrix.sort_index(axis=1).sort_index(axis=1)\n",
    "        \n",
    "        #fill diagonal \n",
    "        np.fill_diagonal(travelsMatrix.values, self.populations['pop'] - travelsMatrix.sum(1))\n",
    "        \n",
    "        #divide by population --> probability of travels\n",
    "        travelsMatrix = travelsMatrix.divide(self.populations['pop'], axis=0)\n",
    "        \n",
    "        self.travelsMatrix = travelsMatrix \n",
    "\n",
    "\n",
    "    def run(self):\n",
    "        for currentStep in np.arange(1,self.nSteps): \n",
    "        \n",
    "            \n",
    "            # disease step \n",
    "            self.comp[currentStep, :, :] = self.comp[currentStep-1, :, :]\n",
    "            # spontaneous E-->I and I-->R\n",
    "            transitions(comp=self.comp, inc=self.inc, fromCompartment=1, toCompartment=2, rate=self.eps, step=currentStep, rng=self.rng)\n",
    "            transitions(comp=self.comp, inc=self.inc, fromCompartment=2, toCompartment=3, rate=self.mu, step=currentStep, rng=self.rng)\n",
    "        \n",
    "            # mediated transition S-->E\n",
    "            mediatedRate = self.beta * self.comp[currentStep-1,:,2] / self.comp[currentStep-1,:,:].sum(1)\n",
    "            transitions(comp=self.comp, inc=self.inc, fromCompartment=0, toCompartment=1, rate=mediatedRate, step=currentStep, rng=self.rng)\n",
    "\n",
    "            # travle step \n",
    "            self.comp[currentStep,:,:] = self.rng.multinomial(self.comp[currentStep,:,:].T, self.travelsMatrix.values).T.sum(1)\n",
    "\n",
    "        return self\n",
    "    \n",
    "    def getPrevalence(self):\n",
    "        df = pd.DataFrame(self.comp.reshape(-1, self.nCompartmens * self.nPatches))\n",
    "        df.columns = pd.MultiIndex.from_product((self.populations['name'],self.nameCompartmens), names=['patch','compartment'])   \n",
    "        return df \n",
    "\n",
    "    def getIncidence(self):\n",
    "        df = pd.DataFrame(self.inc.reshape(-1, self.nCompartmens * self.nPatches))\n",
    "        df.columns = pd.MultiIndex.from_product((self.populations['name'],self.nameCompartmens), names=['patch','compartment'])   \n",
    "        return df \n",
    "        "
   ]
  },
  {
   "cell_type": "markdown",
   "id": "1547605e-ceb1-4bf4-877b-6ad450bf6623",
   "metadata": {},
   "source": [
    "## Usage of the metapopulation class"
   ]
  },
  {
   "cell_type": "code",
   "execution_count": null,
   "id": "8316d42d-f77e-461b-a959-4b3b11b5b5c2",
   "metadata": {},
   "outputs": [],
   "source": [
    "# Define population dataset\n",
    "population = [1e4, 1e3, 1e4] \n",
    "namePatches = [f'patch {i}' for i in range(len(population))] \n",
    "populations = pd.DataFrame(zip(population, namePatches), columns=['pop', 'name'])  \n",
    "populations.head()"
   ]
  },
  {
   "cell_type": "code",
   "execution_count": null,
   "id": "ca772bf2-668a-4d1c-8072-841003d5f2a6",
   "metadata": {},
   "outputs": [],
   "source": [
    "# Define travel dataset\n",
    "travels = pd.DataFrame([[0,1,20],[1,2,200]], columns=['from', 'to', 'passengers']).set_index(['from','to'])\n",
    "travels.head(2)"
   ]
  },
  {
   "cell_type": "code",
   "execution_count": null,
   "id": "b7db30f9-79ac-4b6d-8924-24ccaf26143c",
   "metadata": {},
   "outputs": [],
   "source": [
    "# Define and run a model, look at the documentation\n",
    "...\n",
    "model = metapopSEIR(beta = 0.5,\n",
    "                    eps = 0.2,\n",
    "                    mu = 0.2,\n",
    "                    populations = populations,\n",
    "                    travels = travels,\n",
    "                    initE = 10,\n",
    "                    initPatch = 2,\n",
    "                    nSteps = 700)\n",
    "model.run();"
   ]
  },
  {
   "cell_type": "code",
   "execution_count": null,
   "id": "386d3f58-3f84-4d48-bbd5-2cbd4e9e92e5",
   "metadata": {},
   "outputs": [],
   "source": [
    "prev = model.getPrevalence()\n",
    "prev.head()"
   ]
  },
  {
   "cell_type": "code",
   "execution_count": null,
   "id": "bce34e29-3d91-4e00-9167-9224f44b4dd8",
   "metadata": {},
   "outputs": [],
   "source": [
    "# Access data of a single patch\n",
    "res = prev.loc[slice(None), ('patch 1', slice(None))]\n",
    "res.head()"
   ]
  },
  {
   "cell_type": "code",
   "execution_count": null,
   "id": "23caa2f8-4933-4911-a897-058c6824fc2b",
   "metadata": {},
   "outputs": [],
   "source": [
    "# Access data of a single compartment\n",
    "res = prev.loc[slice(None), (slice(None), 'E')]\n",
    "res.head()"
   ]
  },
  {
   "cell_type": "code",
   "execution_count": null,
   "id": "63e6610a-91ab-4166-a121-a8b98eb7b0cf",
   "metadata": {},
   "outputs": [],
   "source": [
    "# Access data of a single compartment in a single patch\n",
    "res = prev.loc[slice(None), ('patch 2', 'E')]\n",
    "res.head()"
   ]
  },
  {
   "cell_type": "code",
   "execution_count": null,
   "id": "d3e3404d-39b4-45b6-836f-e37925f74825",
   "metadata": {},
   "outputs": [],
   "source": []
  },
  {
   "cell_type": "code",
   "execution_count": null,
   "id": "d8b01685-fa19-4bea-b1ab-4b866717857b",
   "metadata": {},
   "outputs": [],
   "source": []
  },
  {
   "cell_type": "code",
   "execution_count": null,
   "id": "db44634c-4e6d-4846-9e76-d75868b17051",
   "metadata": {},
   "outputs": [],
   "source": []
  },
  {
   "cell_type": "code",
   "execution_count": null,
   "id": "a44a04c4-cb7c-46d7-9453-8bd094ebffde",
   "metadata": {},
   "outputs": [],
   "source": []
  },
  {
   "cell_type": "markdown",
   "id": "c167e659-3e51-4dcd-b06e-9ae106b2fbe8",
   "metadata": {},
   "source": [
    "# 2) Syncronization "
   ]
  },
  {
   "cell_type": "markdown",
   "id": "e216a436-ea89-47f0-b0c7-a221ded4d500",
   "metadata": {},
   "source": [
    "![Metapop Setting 1](https://github.com/EPIcx-lab/ESPIDAM2024_Networks-and-Contact-Patterns-in-Infectious-Disease-Models/raw/60eeb2305fe2dcb0048f928b5ca49837dc8b71c5/figures/metapopSetting1.png)"
   ]
  },
  {
   "cell_type": "code",
   "execution_count": null,
   "id": "b86b52eb-5f1e-476d-9693-251465b24ff6",
   "metadata": {},
   "outputs": [],
   "source": [
    "..."
   ]
  },
  {
   "cell_type": "code",
   "execution_count": null,
   "id": "2ebc589d-9ae5-4336-b7fd-2ce5c78acafb",
   "metadata": {},
   "outputs": [],
   "source": [
    "..."
   ]
  },
  {
   "cell_type": "code",
   "execution_count": null,
   "id": "e1f8e75c-b046-4320-adf5-5ddd993d7c34",
   "metadata": {},
   "outputs": [],
   "source": [
    "..."
   ]
  },
  {
   "cell_type": "code",
   "execution_count": null,
   "id": "57030c4f-c53c-45be-9335-9f19db9d76a9",
   "metadata": {},
   "outputs": [],
   "source": [
    "..."
   ]
  },
  {
   "cell_type": "code",
   "execution_count": null,
   "id": "f6c8c581-6c03-4273-bf62-367e084bdeb0",
   "metadata": {},
   "outputs": [],
   "source": [
    "..."
   ]
  },
  {
   "cell_type": "markdown",
   "id": "3b287c96-2992-49ad-a36d-f3c36aff6dc0",
   "metadata": {},
   "source": [
    "# Run multiple experiment function"
   ]
  },
  {
   "cell_type": "code",
   "execution_count": null,
   "id": "cb76d3d6-5c35-4a2a-8a1a-2519c9a5b124",
   "metadata": {},
   "outputs": [],
   "source": [
    "def getIncidenceMultipleRun(model, n=10):\n",
    "    '''\n",
    "    Run model n times and get the number new infections\n",
    "    '''\n",
    "    incs = list()\n",
    "    for i in range(n):\n",
    "        _model = deepcopy(model)\n",
    "        _model.rng = np.random.default_rng(np.random.randint(1e7))\n",
    "        inc = _model.run().getIncidence()\n",
    "        \n",
    "        inc.columns = pd.MultiIndex.from_product([[f'exp_{i}']] + inc.columns.levels)\n",
    "        incs.append(inc)\n",
    "        \n",
    "    return pd.concat(incs, axis=1)"
   ]
  },
  {
   "cell_type": "code",
   "execution_count": null,
   "id": "a77677e3-ac48-4380-82a1-d1ec78a1fbd3",
   "metadata": {},
   "outputs": [],
   "source": [
    "# Define population dataset\n",
    "population = [1e7, 1e7, 1e7] \n",
    "namePatches = [f'patch {i}' for i in range(len(population))] \n",
    "populations = pd.DataFrame(zip(population, namePatches), columns=['pop', 'name'])  "
   ]
  },
  {
   "cell_type": "code",
   "execution_count": null,
   "id": "9fc308ed-71e0-4779-9f47-f2d011fa584e",
   "metadata": {},
   "outputs": [],
   "source": [
    "travels = pd.DataFrame([[0,1,100],[0,2,100]], columns=['from', 'to', 'passengers']).set_index(['from','to'])\n",
    "\n",
    "model = metapopSEIR(beta = 0.25,\n",
    "                    eps = 0.4,\n",
    "                    mu = 0.17,\n",
    "                    populations = populations,\n",
    "                    travels = travels,\n",
    "                    initE = 10,\n",
    "                    initPatch = 0,\n",
    "                    nSteps = 600)\n",
    "\n",
    "inc = getIncidenceMultipleRun(model, n=10)"
   ]
  },
  {
   "cell_type": "code",
   "execution_count": null,
   "id": "6a5fb00e-5108-4b96-a4de-6dbba5447a73",
   "metadata": {},
   "outputs": [],
   "source": [
    "inc.head()"
   ]
  },
  {
   "cell_type": "code",
   "execution_count": null,
   "id": "722aa28c-912a-4e6d-8004-dad6c7fe0a79",
   "metadata": {},
   "outputs": [],
   "source": [
    "fig, ax = plt.subplots(figsize=(5, 2.7))\n",
    "\n",
    "df = inc.loc[:, (slice(None),'patch 0','I')] #HOW to selcet the new infected of patch 0\n",
    "\n",
    "ax.plot(df.index, df.values, c='C0', alpha=0.7)\n",
    "df = inc.loc[:, (slice(None),'patch 1','I')]\n",
    "\n",
    "ax.plot(df.index, df.values, c='C1', alpha=0.7)\n",
    "df = inc.loc[:, (slice(None),'patch 2','I')]\n",
    "ax.plot(df.index, df.values, c='C2', alpha=0.7);ax.set_ylabel(\"new cases\")"
   ]
  },
  {
   "cell_type": "code",
   "execution_count": null,
   "id": "be0c0fe3-e3e2-4cd9-b488-37df5e9e51ed",
   "metadata": {},
   "outputs": [],
   "source": []
  },
  {
   "cell_type": "code",
   "execution_count": null,
   "id": "c3f97a68-cfed-4ce8-91a0-070c141f6cd4",
   "metadata": {},
   "outputs": [],
   "source": []
  },
  {
   "cell_type": "code",
   "execution_count": null,
   "id": "2a9bee0b-261b-4a92-baac-91c4a68829d0",
   "metadata": {},
   "outputs": [],
   "source": []
  },
  {
   "cell_type": "markdown",
   "id": "b656aa3b-3618-4f8c-a33c-50b7a337c05c",
   "metadata": {},
   "source": [
    "# Travel restrictions"
   ]
  },
  {
   "cell_type": "markdown",
   "id": "d9e00e65-02b1-4142-a066-ddadaad39afd",
   "metadata": {},
   "source": [
    "![Metapop Setting 2](https://github.com/EPIcx-lab/ESPIDAM2024_Networks-and-Contact-Patterns-in-Infectious-Disease-Models/raw/60eeb2305fe2dcb0048f928b5ca49837dc8b71c5/figures/metapopSetting2.png)\n",
    "\n",
    "Experiment with various population sizes, travel flows, and network topologies!"
   ]
  },
  {
   "cell_type": "code",
   "execution_count": null,
   "id": "ca8fae6f-c6cb-4542-adec-14d1940cae1b",
   "metadata": {},
   "outputs": [],
   "source": [
    "..."
   ]
  },
  {
   "cell_type": "code",
   "execution_count": null,
   "id": "17cfaa69-83f3-4cc2-90f6-297e97d4fb03",
   "metadata": {},
   "outputs": [],
   "source": []
  },
  {
   "cell_type": "code",
   "execution_count": null,
   "id": "414b27d7-3520-4b58-930a-34489ac14211",
   "metadata": {},
   "outputs": [],
   "source": []
  },
  {
   "cell_type": "code",
   "execution_count": null,
   "id": "94c1cb6f-f75d-4c2b-b5e0-e20101e33c1c",
   "metadata": {},
   "outputs": [],
   "source": []
  },
  {
   "cell_type": "code",
   "execution_count": null,
   "id": "5dd842dd-e7ac-4a7f-b095-52e3b410828b",
   "metadata": {},
   "outputs": [],
   "source": []
  },
  {
   "cell_type": "markdown",
   "id": "435fc5e7-6fd0-4210-948b-7bac142d672f",
   "metadata": {},
   "source": [
    "# 3) Real Case\n",
    "In this section, a real-case scenario using the US states as patches and the state-to-state mobility data from the first practical session.  \n",
    "We will simulate the disease spread from different source states and plot the cumulative incidence on a map at various time steps to visualize the spread."
   ]
  },
  {
   "cell_type": "markdown",
   "id": "6e18dd86-923f-4821-b55b-c4a483ff737e",
   "metadata": {},
   "source": [
    "## Load the datasets"
   ]
  },
  {
   "cell_type": "code",
   "execution_count": null,
   "id": "762edadb-74f6-4247-a8e0-00bb28a1c252",
   "metadata": {},
   "outputs": [],
   "source": [
    "# Load the geojson file with county shapes\n",
    "# if executed on Google Colab change the path in 'https://github.com/EPIcx-lab/ESPIDAM2024_Networks-and-Contact-Patterns-in-Infectious-Disease-Models/raw/main/otherData/US-counties.geojson'\n",
    "\n",
    "geoData = gpd.read_file('./otherData/US-states.geojson')\n",
    "geoData = geoData.to_crs(\"ESRI:102003\")\n",
    "geoData = geoData.set_index('GEOID')\n",
    "\n",
    "# For visualizaiton pourpose remove Alaska, Hawaii and Puerto Rico.\n",
    "geoData = geoData.query('STATEFP not in [\"02\", \"15\", \"72\", \"78\", \"60\", \"66\", \"69\"]')\n",
    "geoData.head(2)"
   ]
  },
  {
   "cell_type": "code",
   "execution_count": null,
   "id": "bb90cebd-a86f-4be9-95c5-110437e0752e",
   "metadata": {},
   "outputs": [],
   "source": [
    "# Load population of US states\n",
    "# if executed on Google Colab change the path in https://github.com/EPIcx-lab/ESPIDAM2024_Networks-and-Contact-Patterns-in-Infectious-Disease-Models/raw/main/otherData/US-pop-states.csv'\n",
    "\n",
    "popState = pd.read_csv(\"./otherData/US-pop-states.csv\")\n",
    "popState['state'] = popState['state'].astype(str)\n",
    "popState['state'] = popState['state'].apply(lambda a: a.zfill(2)) \n",
    "\n",
    "popState.columns = ['name','pop']\n",
    "popState.head(2)"
   ]
  },
  {
   "cell_type": "code",
   "execution_count": null,
   "id": "f2e1ce48-493f-4bc7-9fe9-4130c76b3a34",
   "metadata": {},
   "outputs": [],
   "source": [
    "# Load states to state passenfer flow\n",
    "# if on google colabs use 'https://github.com/EPIcx-lab/ESPIDAM2024_Networks-and-Contact-Patterns-in-Infectious-Disease-Models/raw/main/mobilityflows/mobilityFlowStateAvg.csv'\n",
    "\n",
    "s2s = pd.read_csv('./mobilityflows/mobilityFlowStateAvg.csv')\n",
    "s2s[['state_o','state_d']] = s2s[['state_o','state_d']].astype(str)\n",
    "s2s[['state_o','state_d']] = s2s[['state_o','state_d']].map(lambda a: a.zfill(2)) \n",
    "\n",
    "s2s.head(2)"
   ]
  },
  {
   "cell_type": "code",
   "execution_count": null,
   "id": "413d7250-3d7f-40ae-a13d-cf7337367631",
   "metadata": {},
   "outputs": [],
   "source": [
    "# Take the average flow between each couple of states\n",
    "...\n",
    "\n",
    "s2s.head(2)"
   ]
  },
  {
   "cell_type": "code",
   "execution_count": null,
   "id": "9ca9a089-5861-4ee4-bee1-821623c8d359",
   "metadata": {},
   "outputs": [],
   "source": [
    "# In the `Metapopulation` class, it's crucial that the travel DataFrame has the same index as the population dataset.\n",
    "# The following code ensures this consistency\n",
    "\n",
    "mapIndexState = popState['name'].to_dict()\n",
    "mapStateIndex = {v: k for k, v in mapIndexState.items()}\n",
    "\n",
    "s2s['state_o'] = s2s['state_o'].map(mapStateIndex)\n",
    "s2s['state_d'] = s2s['state_d'].map(mapStateIndex)\n",
    "\n",
    "s2s = s2s.set_index(['state_o','state_d'])\n",
    "s2s.index.names = ['from', 'to']\n",
    "s2s.columns = ['passengers']\n",
    "s2s.head(2)"
   ]
  },
  {
   "cell_type": "markdown",
   "id": "154d09db-abd7-4b4b-8cee-a6e73499218d",
   "metadata": {},
   "source": [
    "## Run the model"
   ]
  },
  {
   "cell_type": "code",
   "execution_count": null,
   "id": "851b5ea0-01f2-44df-b41b-3483c2c7bfe4",
   "metadata": {},
   "outputs": [],
   "source": [
    "# Select a source and run the model\n",
    "..."
   ]
  },
  {
   "cell_type": "code",
   "execution_count": null,
   "id": "2cd8b720-0d0c-4ded-a768-dcfd0c9d8711",
   "metadata": {},
   "outputs": [],
   "source": [
    "# get for each patch the cumulative incidence at a certain timestep\n",
    "incidence = model.getIncidence().loc[:, (slice(None),'I')]\n",
    "incidence = incidence.droplevel('compartment', axis=1)\n",
    "\n",
    "# use cumsum to get the cumulative number of new cases\n",
    "...\n",
    "\n",
    "# select a timestep\n",
    "...\n",
    "\n",
    "\n",
    "# divide by population\n",
    "...\n",
    "\n",
    "\n",
    "incidence.name = 'incidence' #give a name to the pd.Series so that we cna merge it \n",
    "\n",
    "# Merge geoData\n",
    "...\n"
   ]
  },
  {
   "cell_type": "code",
   "execution_count": null,
   "id": "e06b7684-8fd9-4253-9bf5-e8b2bd974bb5",
   "metadata": {},
   "outputs": [],
   "source": [
    "fig, ax = plt.subplots(figsize=(5, 3), ncols=1, layout='constrained')\n",
    "ax.axis('off')\n",
    "\n",
    "geoDataWithInc.plot(facecolor='None', linewidth=.3, ax=ax);\n",
    "geoDataWithInc.plot(column='incidence', cmap='Reds', ax=ax, legend=True, legend_kwds= {'label': \"Cumulative incidence %\"})\n",
    "\n",
    "sourceCode = popState.loc[source, 'name']\n",
    "geoDataWithInc.loc[[sourceCode]].plot(facecolor='None', ax=ax, hatch='////', edgecolor='white')"
   ]
  },
  {
   "cell_type": "code",
   "execution_count": null,
   "id": "6d9f0e78-fca8-46fd-900a-57fe9dcb4e1d",
   "metadata": {},
   "outputs": [],
   "source": []
  },
  {
   "cell_type": "code",
   "execution_count": null,
   "id": "4dcc79c8-4a06-44fb-b291-6588d5f66314",
   "metadata": {},
   "outputs": [],
   "source": []
  },
  {
   "attachments": {},
   "cell_type": "markdown",
   "id": "57cf6231-d9c6-4b4e-82bf-64f1658506f4",
   "metadata": {},
   "source": [
    "# 4) Hub-Peripheral Source Dynamics \n",
    "\n",
    "In metapopulation models, large patches typically infect other large patches due to higher travels volumes and dense connectivity between them, facilitating faster disease spread among these hubs. Conversely, small patches tend to infect large patches first because of essential travels links, despite lower overall connectivity. This results in an asymmetric infection dynamic where large patches are primarily responsible for propagating the disease among themselves, while small patches contribute to initial outbreaks in larger patches due to directional travels bias. \n",
    "\n",
    "Show that this is the case by doing the following steps:\n",
    "1) Creating a population dataset with different dimension\n",
    "2) Use a gravity model for estimate the number of passenger between two patches (assume that the distance costant between all the patches)\n",
    "3) Run the metapopulation model using different sources\n",
    "4) Plot the cumulate incidence and observe the delay in the outbreak across different patches\n",
    "\n",
    "Suggenstion: use the gravity model we fitted in the last practical lesson:\n",
    "$$T_{ij} = K \\frac{P_i^{a} P_j^{b}}{D_{ij}^{c}}$$\n",
    " \n",
    "$K = 4 \\times 10^{-5}$  \n",
    "$a = b = 0.85$  \n",
    "$c = 1.1$  "
   ]
  },
  {
   "cell_type": "code",
   "execution_count": null,
   "id": "053f4edd-a8d3-4e3d-8ad8-34eea7107605",
   "metadata": {},
   "outputs": [],
   "source": [
    "# Define population dataset\n",
    "# Create patches with big/medium/small population\n",
    "..."
   ]
  },
  {
   "cell_type": "code",
   "execution_count": null,
   "id": "288e5ffb-3025-42b0-8c87-be893d0677b6",
   "metadata": {},
   "outputs": [],
   "source": [
    "# Define travel dataset from the gravity model\n",
    "# Step 1: create a dataset that contian the population for each combination of patches\n",
    "travels = pd.DataFrame(list(combinations(populations.index, 2)), columns=['from', 'to'])\n",
    "travels = travels.merge(populations[['pop']].add_suffix('_from'), left_on='from', right_index=True)\n",
    "travels = travels.merge(populations[['pop']].add_suffix('_to'), left_on='to', right_index=True)\n",
    "travels = travels.set_index(['from', 'to'])\n",
    "travels.head(2)"
   ]
  },
  {
   "cell_type": "code",
   "execution_count": null,
   "id": "c35fd332-c1d5-415c-840d-0504cdf25e9e",
   "metadata": {},
   "outputs": [],
   "source": [
    "# Step 2: Add the 'passenger' column to the dataset, using the gravity model \n",
    "..."
   ]
  },
  {
   "cell_type": "markdown",
   "id": "3b4a0e19-956c-4f3b-a4d7-d1d97e5ed16a",
   "metadata": {},
   "source": [
    "## Hub Source\n",
    "\n",
    "- Introduce the disease in a patch with a large population.\n",
    "- Plot the cumulative incidence using a logarithmic scale.\n",
    "- Analyze the delay in outbreak onset across various patches."
   ]
  },
  {
   "cell_type": "code",
   "execution_count": null,
   "id": "7f56d92a-5ec7-4333-9f15-f49f22ea1b12",
   "metadata": {},
   "outputs": [],
   "source": [
    "# Define the model\n",
    "...\n"
   ]
  },
  {
   "cell_type": "code",
   "execution_count": null,
   "id": "89e3ec28-eed3-4827-bd55-731d27feb640",
   "metadata": {},
   "outputs": [],
   "source": [
    "# Get incidence in compartment I and compute the cumulative sum (pandas function cumsum())\n",
    "# Call the result incCum\n",
    "...\n"
   ]
  },
  {
   "cell_type": "code",
   "execution_count": null,
   "id": "4a8f96b5-0302-4767-90c9-695c886ecdca",
   "metadata": {},
   "outputs": [],
   "source": [
    "# Plot incCum\n",
    "fig, ax = plt.subplots(figsize=(5, 5))\n",
    "\n",
    "incCum.iloc[:].plot(ax=ax)\n",
    "\n",
    "plt.yscale('log')\n",
    "ax.set_ylabel(\"cumulative incidence\")\n",
    "ax.set_xlabel(\"step\")"
   ]
  },
  {
   "cell_type": "markdown",
   "id": "96e147cd-1eb9-4a5d-b769-7461d870dfa9",
   "metadata": {},
   "source": [
    "## Peripheral Source\n",
    "\n",
    "- Introduce the disease in a source patch with a small population.\n",
    "- Plot the cumulative incidence using a logarithmic scale.\n",
    "- Analyze the delay in outbreak onset across various patches.\n"
   ]
  },
  {
   "cell_type": "code",
   "execution_count": null,
   "id": "e02f64a1-660e-4b7e-9088-d6d7aebd5868",
   "metadata": {},
   "outputs": [],
   "source": [
    "# Define the model\n",
    "..."
   ]
  },
  {
   "cell_type": "code",
   "execution_count": null,
   "id": "4b042b35-bd2b-4544-815b-b76fee76a44f",
   "metadata": {},
   "outputs": [],
   "source": [
    "# Get incidence in compartment I and compute the cumulative sum (pandas function cumsum())\n",
    "# Call the result incCum\n",
    "..."
   ]
  },
  {
   "cell_type": "code",
   "execution_count": null,
   "id": "1908b053-ccf9-461d-b1d2-4752eab5d82f",
   "metadata": {},
   "outputs": [],
   "source": [
    "# Plot incCum\n",
    "fig, ax = plt.subplots(figsize=(5, 5))\n",
    "\n",
    "incCum.plot(ax=ax)\n",
    "\n",
    "plt.yscale('log')\n",
    "ax.set_ylabel(\"cumulative incidence\")\n",
    "ax.set_xlabel(\"step\")"
   ]
  },
  {
   "cell_type": "code",
   "execution_count": null,
   "id": "4177c523-8f93-4d7b-a768-979f9e2bae33",
   "metadata": {},
   "outputs": [],
   "source": []
  },
  {
   "cell_type": "code",
   "execution_count": null,
   "id": "f10e34fb-97fb-4ecd-b64f-f3460250fccf",
   "metadata": {},
   "outputs": [],
   "source": []
  }
 ],
 "metadata": {
  "kernelspec": {
   "display_name": "Python 3 (ipykernel)",
   "language": "python",
   "name": "python3"
  },
  "language_info": {
   "codemirror_mode": {
    "name": "ipython",
    "version": 3
   },
   "file_extension": ".py",
   "mimetype": "text/x-python",
   "name": "python",
   "nbconvert_exporter": "python",
   "pygments_lexer": "ipython3",
   "version": "3.12.0"
  }
 },
 "nbformat": 4,
 "nbformat_minor": 5
}
