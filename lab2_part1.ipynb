{
 "cells": [
  {
   "cell_type": "markdown",
   "id": "f2bae15d-5341-46d5-8ba4-22364581fc00",
   "metadata": {},
   "source": [
    "# Import libraries"
   ]
  },
  {
   "cell_type": "code",
   "execution_count": 1,
   "id": "c7b68006-a859-40a3-b8cc-2b0a23d63bd8",
   "metadata": {},
   "outputs": [],
   "source": [
    "import pandas as pd\n",
    "import numpy as np\n",
    "from matplotlib import pyplot as plt\n",
    "rng = np.random.default_rng() # random number generator"
   ]
  },
  {
   "cell_type": "markdown",
   "id": "ee6cd79e-449c-43c8-bb59-918e3994abef",
   "metadata": {},
   "source": [
    "# The Metapopulation Model\n",
    "\n",
    "In this notebook, we will explore the steps to develop a stochastic metapopulation model based on binomial and multinomial extractions. We will proceed in four steps:\n",
    "1. Define the disease parameters, specify the patches (subpopulations) information, and provide details about how many individuals travel between patches.\n",
    "2. Simulate the spreading in a single patch.\n",
    "3. Simulate the movement of individuals between patches.\n",
    "4. Combine steps 2 and 3."
   ]
  },
  {
   "cell_type": "markdown",
   "id": "a152911f-4dd3-475a-b662-ad2d7e9839c3",
   "metadata": {},
   "source": [
    "![SEIR Model](https://upload.wikimedia.org/wikipedia/commons/3/3d/SEIR.PNG)\n"
   ]
  },
  {
   "cell_type": "markdown",
   "id": "69ff0145-7240-4d6f-8873-b4c7056289fb",
   "metadata": {},
   "source": [
    "# 1) Set disease parameters, population and travel"
   ]
  },
  {
   "cell_type": "code",
   "execution_count": 2,
   "id": "fdefdf72-919d-4904-b34a-4fc90d66e730",
   "metadata": {},
   "outputs": [],
   "source": [
    "# SEIR disease parameters\n",
    "beta = 0.5  # Infection rate\n",
    "eps = 0.2   # Transition rate from E to I\n",
    "mu = 0.2    # Transition rate from I to R"
   ]
  },
  {
   "cell_type": "code",
   "execution_count": 3,
   "id": "8316d42d-f77e-461b-a959-4b3b11b5b5c2",
   "metadata": {},
   "outputs": [
    {
     "data": {
      "text/html": [
       "<div>\n",
       "<style scoped>\n",
       "    .dataframe tbody tr th:only-of-type {\n",
       "        vertical-align: middle;\n",
       "    }\n",
       "\n",
       "    .dataframe tbody tr th {\n",
       "        vertical-align: top;\n",
       "    }\n",
       "\n",
       "    .dataframe thead th {\n",
       "        text-align: right;\n",
       "    }\n",
       "</style>\n",
       "<table border=\"1\" class=\"dataframe\">\n",
       "  <thead>\n",
       "    <tr style=\"text-align: right;\">\n",
       "      <th></th>\n",
       "      <th>pop</th>\n",
       "      <th>name</th>\n",
       "    </tr>\n",
       "  </thead>\n",
       "  <tbody>\n",
       "    <tr>\n",
       "      <th>0</th>\n",
       "      <td>1000000.0</td>\n",
       "      <td>patch 0</td>\n",
       "    </tr>\n",
       "    <tr>\n",
       "      <th>1</th>\n",
       "      <td>2000000.0</td>\n",
       "      <td>patch 1</td>\n",
       "    </tr>\n",
       "    <tr>\n",
       "      <th>2</th>\n",
       "      <td>100000.0</td>\n",
       "      <td>patch 2</td>\n",
       "    </tr>\n",
       "  </tbody>\n",
       "</table>\n",
       "</div>"
      ],
      "text/plain": [
       "         pop     name\n",
       "0  1000000.0  patch 0\n",
       "1  2000000.0  patch 1\n",
       "2   100000.0  patch 2"
      ]
     },
     "execution_count": 3,
     "metadata": {},
     "output_type": "execute_result"
    }
   ],
   "source": [
    "# Define population dataset\n",
    "population = [1e6, 2e6, 1e5]  # List of population sizes\n",
    "namePatches = [f'patch {I}' for I in range(len(population))]  # Generate patch names\n",
    "\n",
    "# Combine population and namePatches into a DataFrame\n",
    "populations = pd.DataFrame(zip(population, namePatches), columns=['pop', 'name'])  \n",
    "populations"
   ]
  },
  {
   "cell_type": "code",
   "execution_count": 4,
   "id": "f55d5f11-9f85-4bf8-8544-230ce3339683",
   "metadata": {},
   "outputs": [
    {
     "data": {
      "text/html": [
       "<div>\n",
       "<style scoped>\n",
       "    .dataframe tbody tr th:only-of-type {\n",
       "        vertical-align: middle;\n",
       "    }\n",
       "\n",
       "    .dataframe tbody tr th {\n",
       "        vertical-align: top;\n",
       "    }\n",
       "\n",
       "    .dataframe thead th {\n",
       "        text-align: right;\n",
       "    }\n",
       "</style>\n",
       "<table border=\"1\" class=\"dataframe\">\n",
       "  <thead>\n",
       "    <tr style=\"text-align: right;\">\n",
       "      <th></th>\n",
       "      <th></th>\n",
       "      <th>passengers</th>\n",
       "    </tr>\n",
       "    <tr>\n",
       "      <th>from</th>\n",
       "      <th>to</th>\n",
       "      <th></th>\n",
       "    </tr>\n",
       "  </thead>\n",
       "  <tbody>\n",
       "    <tr>\n",
       "      <th>0</th>\n",
       "      <th>1</th>\n",
       "      <td>200</td>\n",
       "    </tr>\n",
       "    <tr>\n",
       "      <th>1</th>\n",
       "      <th>2</th>\n",
       "      <td>300</td>\n",
       "    </tr>\n",
       "  </tbody>\n",
       "</table>\n",
       "</div>"
      ],
      "text/plain": [
       "         passengers\n",
       "from to            \n",
       "0    1          200\n",
       "1    2          300"
      ]
     },
     "execution_count": 4,
     "metadata": {},
     "output_type": "execute_result"
    }
   ],
   "source": [
    "# Define travel dataset\n",
    "# We assume symmetric travel, conserving population in each patch\n",
    "# We need to specify only one direction of travel\n",
    "\n",
    "travels = pd.DataFrame([[0, 1, 200], [1, 2, 300]], columns=['from', 'to', 'passengers']).set_index(['from', 'to'])\n",
    "travels"
   ]
  },
  {
   "cell_type": "code",
   "execution_count": null,
   "id": "3eb32a87-f708-432e-9bf3-24d316f83a9c",
   "metadata": {},
   "outputs": [],
   "source": []
  },
  {
   "cell_type": "code",
   "execution_count": null,
   "id": "2dbf53b2-d040-4e96-b13a-aad633792379",
   "metadata": {},
   "outputs": [],
   "source": []
  },
  {
   "cell_type": "markdown",
   "id": "e554a6e7-f43e-4dba-a876-6b2464b4f925",
   "metadata": {},
   "source": [
    "# 2) Simulate the disease"
   ]
  },
  {
   "cell_type": "markdown",
   "id": "1361f6bf-8ed9-4993-bda9-45bf099409bb",
   "metadata": {},
   "source": [
    "## SEIR Model\n",
    "\n",
    "To simulate the compartments:\n",
    "- We create a 3D array (initialized with zeros) called `comp` that will contain the number of individuals in each compartment for each patch and each time step of the simulation. We access it using `comp[simulationStep, patchNumber, compartment]`. For example, to access the number of exposed individuals at simulation step 20 in patch 1, use `comp[20, 1, 1]`.\n",
    "- Similarly, we create another 3D array called `inc` with the same structure to account for the incidence in each compartment."
   ]
  },
  {
   "cell_type": "code",
   "execution_count": 5,
   "id": "648d33c9-9080-4a4d-a389-4fc99ffd4add",
   "metadata": {},
   "outputs": [],
   "source": [
    "nameCompartments = ['S','E','I','R']\n",
    "nCompartmens = 4\n",
    "nPatches = len(populations)\n",
    "nSteps = 200\n",
    "\n",
    "# Create comp inc arrays\n",
    "comp = np.zeros((nSteps, nPatches, nCompartmens), dtype=np.int64)\n",
    "inc =  np.zeros((nSteps, nPatches, nCompartmens), dtype=np.int64)"
   ]
  },
  {
   "cell_type": "code",
   "execution_count": 10,
   "id": "ce66a9ee-1820-44dd-b5fe-1a0da500ffa2",
   "metadata": {},
   "outputs": [],
   "source": [
    "# Fill comp array at time t=0, where all the population is in compartment S\n",
    "...\n",
    "comp[0,:,0] = populations['pop']"
   ]
  },
  {
   "cell_type": "code",
   "execution_count": 34,
   "id": "2f81af80-1484-4506-9567-6e46c5bd56a6",
   "metadata": {},
   "outputs": [
    {
     "data": {
      "text/plain": [
       "array([[1000000,       0,       0,       0],\n",
       "       [2000000,       0,       0,       0],\n",
       "       [  99990,      10,       0,       0]])"
      ]
     },
     "execution_count": 34,
     "metadata": {},
     "output_type": "execute_result"
    }
   ],
   "source": [
    "# Set initial conditions for the SEIR model\n",
    "# At time 0, in patch 2, initialize one individual as exposed\n",
    "initE = 10  \n",
    "initPatch = 2 \n",
    "\n",
    "# Update the compartments array for initial conditions\n",
    "...\n",
    "\n",
    "# Update the incidence array to reflect initial exposure\n",
    "...\n",
    "\n",
    "# Check the state of compartments at time 0 across all patches\n",
    "comp[0, :, :]"
   ]
  },
  {
   "cell_type": "code",
   "execution_count": 35,
   "id": "9d0787a3-758c-4767-a61a-9a9bcc67ffc2",
   "metadata": {},
   "outputs": [],
   "source": [
    "def transitions(comp, inc, fromCompartment, toCompartment, rate, step):\n",
    "    '''\n",
    "    This function modifies the arrays `comp` (compartment occupancy for each patch) and `inc` (compartment incidence for each patch).\n",
    "    It updates the values at the given `step` to account for the transition between compartments based on binomial extractions.\n",
    "    It assumes the comp array at `step` is filled with the values of the comp array at `step-1`.\n",
    "\n",
    "    Parameters:\n",
    "    - comp: 3D array, compartment occupancy for each patch over time\n",
    "    - inc: 3D array, compartment incidence for each patch over time\n",
    "    - fromCompartment: int, index of the compartment transitioning from\n",
    "    - toCompartment: int, index of the compartment transitioning to\n",
    "    - rate: float or array-like, transition rate or rates for each patch\n",
    "    - step: int, current time step of the simulation\n",
    "\n",
    "    Example:\n",
    "    transitions(comp, inc, 1, 2, eps, 20) --> transitions from compartment 1 (E) to compartment 2 (I) with rate eps at time step 20\n",
    "    '''\n",
    "    \n",
    "    transitions = rng.binomial(comp[step-1, :, fromCompartment], 1-np.exp(-rate))\n",
    "    \n",
    "    comp[step, :, toCompartment] += transitions\n",
    "    comp[step, :, fromCompartment] -= transitions\n",
    "\n",
    "    inc[step, :, toCompartment] += transitions"
   ]
  },
  {
   "cell_type": "code",
   "execution_count": 36,
   "id": "b27e4c82-2074-4acf-8eb7-d25f25a973dd",
   "metadata": {},
   "outputs": [],
   "source": [
    "# For each step of the epidemic, update the transitions between compartments\n",
    "for currentStep in np.arange(1, nSteps): \n",
    "    # Copy the compartment occupancy from the last step to the current step\n",
    "    comp[currentStep, :, :] = comp[currentStep-1, :, :]\n",
    "\n",
    "    # Perform spontaneous transitions\n",
    "    # Transition from exposed (E) to infectious (I)\n",
    "    ...\n",
    "    \n",
    "    # Transition from infectious (I) to recovered (R)\n",
    "    ...\n",
    "\n",
    "    # Perform mediated transition from susceptible (S) to exposed (E)\n",
    "    ..."
   ]
  },
  {
   "cell_type": "code",
   "execution_count": 37,
   "id": "27e44cd1-8af3-42d3-b9de-3253d58a69bc",
   "metadata": {},
   "outputs": [
    {
     "data": {
      "text/plain": [
       "Text(0.5, 0, 'Time Step')"
      ]
     },
     "execution_count": 37,
     "metadata": {},
     "output_type": "execute_result"
    },
    {
     "data": {
      "image/png": "[encoded data removed]",
      "text/plain": [
       "<Figure size 500x270 with 1 Axes>"
      ]
     },
     "metadata": {},
     "output_type": "display_data"
    }
   ],
   "source": [
    "# Plot the prevalence of infection (I) and prevalence of exposure (E):\n",
    "fig, ax = plt.subplots(figsize=(5, 2.7), layout='constrained')\n",
    "\n",
    "for indexCompartment, style in zip([1, 2], ['-', '--']): \n",
    "    for patchIndex, patchName in enumerate(namePatches):\n",
    "        label = f'{patchName} ({nameCompartments[indexCompartment]})'\n",
    "        ax.plot(comp[:, patchIndex, indexCompartment], linestyle=style, label=label, color=f'C{patchIndex}')\n",
    "        \n",
    "plt.legend()\n",
    "plt.ylabel('Prevalence')\n",
    "plt.xlabel('Time Step')"
   ]
  },
  {
   "cell_type": "code",
   "execution_count": null,
   "id": "3fc12e89-e499-4cf6-b113-c2d992490e79",
   "metadata": {},
   "outputs": [],
   "source": []
  },
  {
   "cell_type": "code",
   "execution_count": null,
   "id": "1c72e97d-7a3a-4ec8-91fc-3cacfdc44f45",
   "metadata": {},
   "outputs": [],
   "source": []
  },
  {
   "cell_type": "markdown",
   "id": "02360805-a3fd-45f5-8c8d-f1e733db2ea3",
   "metadata": {},
   "source": [
    "# 3) Simulate human mobility"
   ]
  },
  {
   "cell_type": "code",
   "execution_count": 38,
   "id": "3ddefcfc-b5c3-488b-bfdb-326977a7787e",
   "metadata": {},
   "outputs": [
    {
     "data": {
      "text/html": [
       "<div>\n",
       "<style scoped>\n",
       "    .dataframe tbody tr th:only-of-type {\n",
       "        vertical-align: middle;\n",
       "    }\n",
       "\n",
       "    .dataframe tbody tr th {\n",
       "        vertical-align: top;\n",
       "    }\n",
       "\n",
       "    .dataframe thead th {\n",
       "        text-align: right;\n",
       "    }\n",
       "</style>\n",
       "<table border=\"1\" class=\"dataframe\">\n",
       "  <thead>\n",
       "    <tr style=\"text-align: right;\">\n",
       "      <th></th>\n",
       "      <th>pop</th>\n",
       "      <th>name</th>\n",
       "    </tr>\n",
       "  </thead>\n",
       "  <tbody>\n",
       "    <tr>\n",
       "      <th>0</th>\n",
       "      <td>1000000.0</td>\n",
       "      <td>patch 0</td>\n",
       "    </tr>\n",
       "    <tr>\n",
       "      <th>1</th>\n",
       "      <td>2000000.0</td>\n",
       "      <td>patch 1</td>\n",
       "    </tr>\n",
       "    <tr>\n",
       "      <th>2</th>\n",
       "      <td>100000.0</td>\n",
       "      <td>patch 2</td>\n",
       "    </tr>\n",
       "  </tbody>\n",
       "</table>\n",
       "</div>"
      ],
      "text/plain": [
       "         pop     name\n",
       "0  1000000.0  patch 0\n",
       "1  2000000.0  patch 1\n",
       "2   100000.0  patch 2"
      ]
     },
     "execution_count": 38,
     "metadata": {},
     "output_type": "execute_result"
    }
   ],
   "source": [
    "populations"
   ]
  },
  {
   "cell_type": "code",
   "execution_count": 39,
   "id": "ad8bed95-5053-445b-8c94-d360837b096a",
   "metadata": {},
   "outputs": [
    {
     "data": {
      "text/html": [
       "<div>\n",
       "<style scoped>\n",
       "    .dataframe tbody tr th:only-of-type {\n",
       "        vertical-align: middle;\n",
       "    }\n",
       "\n",
       "    .dataframe tbody tr th {\n",
       "        vertical-align: top;\n",
       "    }\n",
       "\n",
       "    .dataframe thead th {\n",
       "        text-align: right;\n",
       "    }\n",
       "</style>\n",
       "<table border=\"1\" class=\"dataframe\">\n",
       "  <thead>\n",
       "    <tr style=\"text-align: right;\">\n",
       "      <th></th>\n",
       "      <th></th>\n",
       "      <th>passengers</th>\n",
       "    </tr>\n",
       "    <tr>\n",
       "      <th>from</th>\n",
       "      <th>to</th>\n",
       "      <th></th>\n",
       "    </tr>\n",
       "  </thead>\n",
       "  <tbody>\n",
       "    <tr>\n",
       "      <th>0</th>\n",
       "      <th>1</th>\n",
       "      <td>200</td>\n",
       "    </tr>\n",
       "    <tr>\n",
       "      <th>1</th>\n",
       "      <th>2</th>\n",
       "      <td>300</td>\n",
       "    </tr>\n",
       "  </tbody>\n",
       "</table>\n",
       "</div>"
      ],
      "text/plain": [
       "         passengers\n",
       "from to            \n",
       "0    1          200\n",
       "1    2          300"
      ]
     },
     "execution_count": 39,
     "metadata": {},
     "output_type": "execute_result"
    }
   ],
   "source": [
    "travels"
   ]
  },
  {
   "cell_type": "code",
   "execution_count": 40,
   "id": "a1f656e6-32d9-4381-a846-0debd4749773",
   "metadata": {},
   "outputs": [
    {
     "data": {
      "text/html": [
       "<div>\n",
       "<style scoped>\n",
       "    .dataframe tbody tr th:only-of-type {\n",
       "        vertical-align: middle;\n",
       "    }\n",
       "\n",
       "    .dataframe tbody tr th {\n",
       "        vertical-align: top;\n",
       "    }\n",
       "\n",
       "    .dataframe thead tr th {\n",
       "        text-align: left;\n",
       "    }\n",
       "\n",
       "    .dataframe thead tr:last-of-type th {\n",
       "        text-align: right;\n",
       "    }\n",
       "</style>\n",
       "<table border=\"1\" class=\"dataframe\">\n",
       "  <thead>\n",
       "    <tr>\n",
       "      <th></th>\n",
       "      <th colspan=\"3\" halign=\"left\">passengers</th>\n",
       "    </tr>\n",
       "    <tr>\n",
       "      <th>to</th>\n",
       "      <th>0</th>\n",
       "      <th>1</th>\n",
       "      <th>2</th>\n",
       "    </tr>\n",
       "    <tr>\n",
       "      <th>from</th>\n",
       "      <th></th>\n",
       "      <th></th>\n",
       "      <th></th>\n",
       "    </tr>\n",
       "  </thead>\n",
       "  <tbody>\n",
       "    <tr>\n",
       "      <th>0</th>\n",
       "      <td>0.9998</td>\n",
       "      <td>0.00020</td>\n",
       "      <td>0.00000</td>\n",
       "    </tr>\n",
       "    <tr>\n",
       "      <th>1</th>\n",
       "      <td>0.0001</td>\n",
       "      <td>0.99975</td>\n",
       "      <td>0.00015</td>\n",
       "    </tr>\n",
       "    <tr>\n",
       "      <th>2</th>\n",
       "      <td>0.0000</td>\n",
       "      <td>0.00300</td>\n",
       "      <td>0.99700</td>\n",
       "    </tr>\n",
       "  </tbody>\n",
       "</table>\n",
       "</div>"
      ],
      "text/plain": [
       "     passengers                  \n",
       "to            0        1        2\n",
       "from                             \n",
       "0        0.9998  0.00020  0.00000\n",
       "1        0.0001  0.99975  0.00015\n",
       "2        0.0000  0.00300  0.99700"
      ]
     },
     "execution_count": 40,
     "metadata": {},
     "output_type": "execute_result"
    }
   ],
   "source": [
    "# Here we create the travelsMatrix that contains the probability of individuals moving between patches\n",
    "# The diagonal represents the probability of individuals staying in their respective patches\n",
    "\n",
    "# Since travel is symmetric and we specified only one direction, we need to duplicate the passengers for the other direction\n",
    "travelsMatrix = pd.concat([travels, travels.rename_axis(['to', 'from']).reorder_levels((1, 0))])\n",
    "\n",
    "# Convert from a dataframe to a matrix form\n",
    "travelsMatrix = travelsMatrix.unstack().fillna(0)\n",
    "travelsMatrix = travelsMatrix.sort_index(axis=1).sort_index(axis=1)\n",
    "\n",
    "# Fill diagonal with the population that do not travel\n",
    "np.fill_diagonal(travelsMatrix.values, populations['pop'] - travelsMatrix.sum(1))\n",
    "\n",
    "# Divide by population to convert passenger counts to probabilities of travel\n",
    "travelsMatrix = travelsMatrix.divide(populations['pop'], axis=0)\n",
    "\n",
    "travelsMatrix"
   ]
  },
  {
   "cell_type": "code",
   "execution_count": 53,
   "id": "c8049176-e326-4d2d-bdfa-5151e1788aff",
   "metadata": {},
   "outputs": [],
   "source": [
    "# Redefine all variables for a clean start\n",
    "nameCompartments = ['S', 'E', 'I', 'R']\n",
    "nCompartments = 4\n",
    "nPatches = len(populations)\n",
    "nSteps = 600\n",
    "\n",
    "comp = np.zeros((nSteps, nPatches, nCompartments), dtype=np.int64)\n",
    "inc = np.zeros((nSteps, nPatches, nCompartments), dtype=np.int64)\n",
    "incT = np.zeros((nSteps, nPatches, nCompartments), dtype=np.int64)\n",
    "\n",
    "comp[0, :, 0] = populations['pop'].values"
   ]
  },
  {
   "cell_type": "code",
   "execution_count": 54,
   "id": "1f19d820-ed05-4582-a6a2-5a7622dbf460",
   "metadata": {},
   "outputs": [],
   "source": [
    "# This snippet of code takes the travel probability matrix and computes for each patch and each compartment how many individuals travel to another patch\n",
    "# It directly modifies the comp array \n",
    "for currentStep in np.arange(0, nSteps - 1): \n",
    "    comp[currentStep + 1, :, :] = rng.multinomial(comp[currentStep, :, :].T, travelsMatrix.values).T.sum(1)"
   ]
  },
  {
   "cell_type": "code",
   "execution_count": null,
   "id": "357eb14a-b19d-4c34-add2-60c862a3bf7e",
   "metadata": {},
   "outputs": [],
   "source": []
  },
  {
   "cell_type": "markdown",
   "id": "5d2a93f8-046e-4f8d-b160-f63399c31ccf",
   "metadata": {},
   "source": [
    "## Plot the patch occupancy"
   ]
  },
  {
   "cell_type": "code",
   "execution_count": 55,
   "id": "aba46391-5c57-4937-87b0-48c5a513b638",
   "metadata": {},
   "outputs": [
    {
     "data": {
      "text/plain": [
       "Text(0.5, 0, 'steps')"
      ]
     },
     "execution_count": 55,
     "metadata": {},
     "output_type": "execute_result"
    },
    {
     "data": {
      "image/png": "[encoded data removed]",
      "text/plain": [
       "<Figure size 500x270 with 1 Axes>"
      ]
     },
     "metadata": {},
     "output_type": "display_data"
    }
   ],
   "source": [
    "fig, ax = plt.subplots(figsize=(5, 2.7), layout='constrained')\n",
    "ax.plot(comp[:,0,0])\n",
    "ax.set_ylabel(\"susceptible population\")\n",
    "ax.set_xlabel(\"steps\")"
   ]
  },
  {
   "cell_type": "code",
   "execution_count": null,
   "id": "948ab99d-0b0d-42d5-8988-a074b324ca0b",
   "metadata": {},
   "outputs": [],
   "source": []
  },
  {
   "cell_type": "code",
   "execution_count": null,
   "id": "e3b69823-de5a-4fc2-8c50-dc0c9178ef9e",
   "metadata": {},
   "outputs": [],
   "source": []
  },
  {
   "cell_type": "markdown",
   "id": "c9b1a7d2-0aa3-4cb8-9793-09568185904e",
   "metadata": {},
   "source": [
    "# 4) Metapopulation model\n",
    "Here at each simulation step, we need to combine the two parts: simulate the disease and simulate human movement."
   ]
  },
  {
   "cell_type": "code",
   "execution_count": 56,
   "id": "5f1a4e08-19f9-4e55-b354-93cc0a842078",
   "metadata": {},
   "outputs": [],
   "source": [
    "# Redefine all variables for a clean start\n",
    "nameCompartments = ['S','E','I','R']\n",
    "nCompartmens = 4\n",
    "nPatches = len(populations)\n",
    "nSteps = 200\n",
    "\n",
    "# init arrays\n",
    "comp = np.zeros((nSteps, nPatches, nCompartmens), dtype=np.int64)\n",
    "inc =  np.zeros((nSteps, nPatches, nCompartmens), dtype=np.int64)\n",
    "incT =  np.zeros((nSteps, nPatches, nCompartmens), dtype=np.int64)\n",
    "\n",
    "comp[0,:,0] = populations['pop'].values\n",
    "\n",
    "# initial condition\n",
    "initE = 10\n",
    "initPatch = 2 \n",
    "comp[0,initPatch,1] += initE\n",
    "comp[0,initPatch,0] -= initE\n",
    "inc[0,initPatch,1] += initE"
   ]
  },
  {
   "cell_type": "code",
   "execution_count": 57,
   "id": "9a19926d-9652-4bc1-b6f4-f39458dfef54",
   "metadata": {},
   "outputs": [],
   "source": [
    "for currentStep in np.arange(1,nSteps): \n",
    "    # Travel step from 3)\n",
    "    comp[currentStep,:,:] = rng.multinomial(comp[currentStep-1,:,:].T, travelsMatrix.values).T.sum(1)\n",
    "\n",
    "    # Disease step from 2)\n",
    "    transitions(comp=comp, inc=inc, fromCompartment=1, toCompartment=2, rate=eps, step=currentStep)\n",
    "    transitions(comp=comp, inc=inc, fromCompartment=2, toCompartment=3, rate=mu, step=currentStep)\n",
    "    mediatedRate = beta * comp[currentStep-1, :, 2] / comp[currentStep-1, :, :].sum(axis=1)\n",
    "    transitions(comp=comp, inc=inc, fromCompartment=0, toCompartment=1, rate=mediatedRate, step=currentStep)"
   ]
  },
  {
   "cell_type": "code",
   "execution_count": 58,
   "id": "654f8109-2ffc-4e15-abb2-a4168322523b",
   "metadata": {},
   "outputs": [
    {
     "data": {
      "text/plain": [
       "Text(0.5, 0, 'step')"
      ]
     },
     "execution_count": 58,
     "metadata": {},
     "output_type": "execute_result"
    },
    {
     "data": {
      "image/png": "[encoded data removed]",
      "text/plain": [
       "<Figure size 500x270 with 1 Axes>"
      ]
     },
     "metadata": {},
     "output_type": "display_data"
    }
   ],
   "source": [
    "# Plot the prevalence of infection (I) and prevalence of exposure (E):\n",
    "fig, ax = plt.subplots(figsize=(5, 2.7), layout='constrained')\n",
    "\n",
    "for patchIndex, patchName in enumerate(namePatches):\n",
    "    label = f'{namePatches[patchIndex]}'\n",
    "    ax.plot(comp[:,patchIndex,2], label=label)\n",
    "        \n",
    "plt.legend()\n",
    "plt.ylabel('prevalence')\n",
    "plt.xlabel('step')"
   ]
  },
  {
   "cell_type": "code",
   "execution_count": null,
   "id": "fa9db55c-3a73-45dc-901d-44b9ed08b1b2",
   "metadata": {},
   "outputs": [],
   "source": []
  }
 ],
 "metadata": {
  "kernelspec": {
   "display_name": "Python 3 (ipykernel)",
   "language": "python",
   "name": "python3"
  },
  "language_info": {
   "codemirror_mode": {
    "name": "ipython",
    "version": 3
   },
   "file_extension": ".py",
   "mimetype": "text/x-python",
   "name": "python",
   "nbconvert_exporter": "python",
   "pygments_lexer": "ipython3",
   "version": "3.12.0"
  }
 },
 "nbformat": 4,
 "nbformat_minor": 5
}
